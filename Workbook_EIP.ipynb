{
  "nbformat": 4,
  "nbformat_minor": 0,
  "metadata": {
    "colab": {
      "name": "Workbook_EIP.ipynb",
      "provenance": [],
      "authorship_tag": "ABX9TyNl6RkGOEq7w7LDPTHuRQXF",
      "include_colab_link": true
    },
    "kernelspec": {
      "name": "python3",
      "display_name": "Python 3"
    },
    "language_info": {
      "name": "python"
    }
  },
  "cells": [
    {
      "cell_type": "markdown",
      "metadata": {
        "id": "view-in-github",
        "colab_type": "text"
      },
      "source": [
        "<a href=\"https://colab.research.google.com/github/reedamroue/EIP/blob/main/Workbook_EIP.ipynb\" target=\"_parent\"><img src=\"https://colab.research.google.com/assets/colab-badge.svg\" alt=\"Open In Colab\"/></a>"
      ]
    },
    {
      "cell_type": "code",
      "metadata": {
        "colab": {
          "base_uri": "https://localhost:8080/"
        },
        "id": "wYyPtcAJmU4Z",
        "outputId": "98c64fc6-0400-4247-8a73-3efb8af8537d"
      },
      "source": [
        "!pip install beautifulsoup4\n",
        "from bs4 import BeautifulSoup\n",
        "import requests\n",
        "import re\n",
        "!pip install validators\n",
        "!pip install nltk\n",
        "import nltk\n",
        "import validators\n",
        "import sys\n",
        "from urllib.parse import urlparse\n",
        "!pip install wget\n",
        "from urllib.request import urlopen\n",
        "import urllib3\n",
        "!pip install PyPDF4\n",
        "!pip install PyMuPDF\n",
        "import PyPDF4\n",
        "import urllib.request \n",
        "import fitz  # this is pymupdf\n",
        "import pandas as pd"
      ],
      "execution_count": 1,
      "outputs": [
        {
          "output_type": "stream",
          "text": [
            "Requirement already satisfied: beautifulsoup4 in /usr/local/lib/python3.7/dist-packages (4.6.3)\n",
            "Collecting validators\n",
            "  Downloading https://files.pythonhosted.org/packages/db/2f/7fed3ee94ad665ad2c1de87f858f10a7785251ff75b4fd47987888d07ef1/validators-0.18.2-py3-none-any.whl\n",
            "Requirement already satisfied: six>=1.4.0 in /usr/local/lib/python3.7/dist-packages (from validators) (1.15.0)\n",
            "Requirement already satisfied: decorator>=3.4.0 in /usr/local/lib/python3.7/dist-packages (from validators) (4.4.2)\n",
            "Installing collected packages: validators\n",
            "Successfully installed validators-0.18.2\n",
            "Requirement already satisfied: nltk in /usr/local/lib/python3.7/dist-packages (3.2.5)\n",
            "Requirement already satisfied: six in /usr/local/lib/python3.7/dist-packages (from nltk) (1.15.0)\n",
            "Collecting wget\n",
            "  Downloading https://files.pythonhosted.org/packages/47/6a/62e288da7bcda82b935ff0c6cfe542970f04e29c756b0e147251b2fb251f/wget-3.2.zip\n",
            "Building wheels for collected packages: wget\n",
            "  Building wheel for wget (setup.py) ... \u001b[?25l\u001b[?25hdone\n",
            "  Created wheel for wget: filename=wget-3.2-cp37-none-any.whl size=9675 sha256=a29050b6d23ea329b4cc2d7f37fcd371dc2d620a58f61e9a1b2e707cabbecfe2\n",
            "  Stored in directory: /root/.cache/pip/wheels/40/15/30/7d8f7cea2902b4db79e3fea550d7d7b85ecb27ef992b618f3f\n",
            "Successfully built wget\n",
            "Installing collected packages: wget\n",
            "Successfully installed wget-3.2\n",
            "Collecting PyPDF4\n",
            "\u001b[?25l  Downloading https://files.pythonhosted.org/packages/4f/1f/509b44850c475c101aa5b5c9b81755cedd363389d6fbb5c53be6fa915a61/PyPDF4-1.27.0.tar.gz (63kB)\n",
            "\u001b[K     |████████████████████████████████| 71kB 7.9MB/s \n",
            "\u001b[?25hBuilding wheels for collected packages: PyPDF4\n",
            "  Building wheel for PyPDF4 (setup.py) ... \u001b[?25l\u001b[?25hdone\n",
            "  Created wheel for PyPDF4: filename=PyPDF4-1.27.0-cp37-none-any.whl size=61249 sha256=fa74b299873ce34f1aed5b02f2d53e2ee5ef7cb17f330e4f2d2fbc751eec32b2\n",
            "  Stored in directory: /root/.cache/pip/wheels/eb/4f/15/c64d533cb496fd874f56045fe30e8cc0ac59f99ecdd718040d\n",
            "Successfully built PyPDF4\n",
            "Installing collected packages: PyPDF4\n",
            "Successfully installed PyPDF4-1.27.0\n",
            "Collecting PyMuPDF\n",
            "\u001b[?25l  Downloading https://files.pythonhosted.org/packages/14/32/98d58e1405a14c7453a92bb37bc348294fb931bcab430aae4131ff24f6e4/PyMuPDF-1.18.15-cp37-cp37m-manylinux_2_12_x86_64.manylinux2010_x86_64.whl (6.4MB)\n",
            "\u001b[K     |████████████████████████████████| 6.4MB 23.7MB/s \n",
            "\u001b[?25hInstalling collected packages: PyMuPDF\n",
            "Successfully installed PyMuPDF-1.18.15\n"
          ],
          "name": "stdout"
        }
      ]
    },
    {
      "cell_type": "code",
      "metadata": {
        "id": "mZlCphBrbA0a"
      },
      "source": [
        "def download_file(download_url, filename):\n",
        "    response = urllib.request.urlopen(download_url)    \n",
        "    file = open(filename + \".pdf\", 'wb')\n",
        "    file.write(response.read())\n",
        "    file.close()"
      ],
      "execution_count": 2,
      "outputs": []
    },
    {
      "cell_type": "code",
      "metadata": {
        "id": "l89IzbW4lfs9"
      },
      "source": [
        "def check_validity(my_url):\n",
        "    try:\n",
        "        urlopen(my_url)\n",
        "    except IOError:\n",
        "        print (\"Please input a valid URL!\")\n",
        "        sys.exit()\n",
        "\n",
        "\n",
        "def get_pdfs(my_url):\n",
        "    links = []\n",
        "    links_final = []\n",
        "    html = urlopen(my_url).read()\n",
        "    html_page = BeautifulSoup(html, features=\"lxml\") \n",
        "    og_url = html_page.find(\"meta\",  property = \"og:url\")\n",
        "    base = urlparse(my_url)\n",
        "    ##print(\"base\",base)\n",
        "    for link in html_page.find_all('a'):\n",
        "        current_link = link.get('href')\n",
        "        if current_link.endswith('pdf'):\n",
        "            if og_url:\n",
        "                ##print(\"currentLink\",current_link)\n",
        "                links.append(og_url[\"content\"] + current_link)\n",
        "            else:\n",
        "                links.append(base.scheme + \"://\" + base.netloc + current_link)\n",
        "\n",
        "    for link in links:\n",
        "        try: \n",
        "            wget.download(link)\n",
        "        except:\n",
        "            ##print(\" \\n \\n Unable to Download A File \\n\")\n",
        "            links.remove(link)\n",
        "    for link in links:\n",
        "      http = urllib3.PoolManager()\n",
        "      error = http.request(\"GET\", link)\n",
        "      if (error.status != 404):\n",
        "        links_final.append(link)\n",
        "    count = 0\n",
        "    for link in links_final:\n",
        "      download_file(link, \"pdf\" + str(count))\n",
        "      count+=1\n",
        "    my_df = pd.DataFrame(links_final, columns = ['PDF Links'])\n",
        "    my_df.to_csv('pdf_links', index = False)"
      ],
      "execution_count": 3,
      "outputs": []
    },
    {
      "cell_type": "code",
      "metadata": {
        "colab": {
          "base_uri": "https://localhost:8080/"
        },
        "id": "QwdR7a6VMgXf",
        "outputId": "ca298ae4-19e5-462b-b6fd-06447cc4a023"
      },
      "source": [
        "get_pdfs('https://cnds.jacobs-university.de/courses/os-2019/')"
      ],
      "execution_count": 4,
      "outputs": [
        {
          "output_type": "stream",
          "text": [
            "/usr/local/lib/python3.7/dist-packages/urllib3/connectionpool.py:847: InsecureRequestWarning: Unverified HTTPS request is being made. Adding certificate verification is strongly advised. See: https://urllib3.readthedocs.io/en/latest/advanced-usage.html#ssl-warnings\n",
            "  InsecureRequestWarning)\n",
            "\n",
            "/usr/local/lib/python3.7/dist-packages/urllib3/connectionpool.py:847: InsecureRequestWarning: Unverified HTTPS request is being made. Adding certificate verification is strongly advised. See: https://urllib3.readthedocs.io/en/latest/advanced-usage.html#ssl-warnings\n",
            "  InsecureRequestWarning)\n",
            "\n",
            "/usr/local/lib/python3.7/dist-packages/urllib3/connectionpool.py:847: InsecureRequestWarning: Unverified HTTPS request is being made. Adding certificate verification is strongly advised. See: https://urllib3.readthedocs.io/en/latest/advanced-usage.html#ssl-warnings\n",
            "  InsecureRequestWarning)\n",
            "\n",
            "/usr/local/lib/python3.7/dist-packages/urllib3/connectionpool.py:847: InsecureRequestWarning: Unverified HTTPS request is being made. Adding certificate verification is strongly advised. See: https://urllib3.readthedocs.io/en/latest/advanced-usage.html#ssl-warnings\n",
            "  InsecureRequestWarning)\n",
            "\n",
            "/usr/local/lib/python3.7/dist-packages/urllib3/connectionpool.py:847: InsecureRequestWarning: Unverified HTTPS request is being made. Adding certificate verification is strongly advised. See: https://urllib3.readthedocs.io/en/latest/advanced-usage.html#ssl-warnings\n",
            "  InsecureRequestWarning)\n",
            "\n"
          ],
          "name": "stderr"
        }
      ]
    },
    {
      "cell_type": "code",
      "metadata": {
        "id": "gnTP09j7PPTj"
      },
      "source": [
        "mypdf = open('samp_elec.pdf', mode='rb')"
      ],
      "execution_count": 5,
      "outputs": []
    },
    {
      "cell_type": "code",
      "metadata": {
        "colab": {
          "base_uri": "https://localhost:8080/"
        },
        "id": "d_1225VdSVdO",
        "outputId": "60858862-a701-4e8e-d415-2d6dbb243b72"
      },
      "source": [
        "pdf_document = PyPDF4.PdfFileReader(mypdf)"
      ],
      "execution_count": 6,
      "outputs": [
        {
          "output_type": "stream",
          "text": [
            "PdfReadWarning: Xref table not zero-indexed. ID numbers for objects will be corrected. [pdf.py:1801]\n"
          ],
          "name": "stderr"
        }
      ]
    },
    {
      "cell_type": "code",
      "metadata": {
        "colab": {
          "base_uri": "https://localhost:8080/"
        },
        "id": "d8Xbx_0QSb4q",
        "outputId": "844eabfb-6836-4e04-f3e7-93fff903be1a"
      },
      "source": [
        "pdf_document.numPages"
      ],
      "execution_count": 7,
      "outputs": [
        {
          "output_type": "execute_result",
          "data": {
            "text/plain": [
              "18"
            ]
          },
          "metadata": {
            "tags": []
          },
          "execution_count": 7
        }
      ]
    },
    {
      "cell_type": "code",
      "metadata": {
        "id": "uiyj5UvzTad5"
      },
      "source": [
        "def get_text_pdf_page(pdf, page):\n",
        "  with fitz.open(pdf) as doc:\n",
        "      text = \"\"\n",
        "      text += doc[page - 1].getText()\n",
        "  ##print(text)\n",
        "  return text\n",
        "\n",
        "def get_text_pdf_full(pdf):\n",
        "  mypdf = open(pdf, mode='rb')\n",
        "  pdf_document = PyPDF4.PdfFileReader(mypdf)\n",
        "  pages = pdf_document.numPages\n",
        "  with fitz.open(pdf) as doc:\n",
        "      text = \"\"\n",
        "      for i in range(0, pages):\n",
        "        text += doc[i].getText()\n",
        "        text += '\\n'\n",
        "        text += 'NEW_PAGE'\n",
        "        text += '\\n'\n",
        "  return text"
      ],
      "execution_count": 8,
      "outputs": []
    },
    {
      "cell_type": "code",
      "metadata": {
        "id": "ltPB8sR_UVbt"
      },
      "source": [
        "def sent_pg_labeler(text):\n",
        "  output = \"\"\n",
        "  lst_out = []\n",
        "  pages = text.split(\"\\nNEW_PAGE\\n\")\n",
        "  index = 1\n",
        "  for p in pages:\n",
        "    lst_out.append(p.replace('. ', ' (pg# ' + str(index) + ').'))\n",
        "    index += 1\n",
        "  for x in lst_out:\n",
        "    output += x\n",
        "  return output"
      ],
      "execution_count": 9,
      "outputs": []
    },
    {
      "cell_type": "code",
      "metadata": {
        "colab": {
          "base_uri": "https://localhost:8080/",
          "height": 191
        },
        "id": "CvqSaSqgXg2d",
        "outputId": "e13cca12-3bbe-4299-ee11-f1e28a9d03e3"
      },
      "source": [
        "text = get_text_pdf_page('samp_elec.pdf', 1)\n",
        "text = text.replace('\\n','')\n",
        "text"
      ],
      "execution_count": 10,
      "outputs": [
        {
          "output_type": "execute_result",
          "data": {
            "application/vnd.google.colaboratory.intrinsic+json": {
              "type": "string"
            },
            "text/plain": [
              "'  1  BEFORE THE FLORIDA PUBLIC SERVICE COMMISSION   In re:  Petition of Tampa Electric Company )  DOCKET NO.________________ for Approval of Electric Vehicle Charging ) Pilot Program               ) ___________________________________ )  FILED:  September 25, 2020   PETITION OF TAMPA ELECTRIC COMPANY FOR APPROVAL OF ELECTRIC VEHICLE CHARGING PILOT PROGRAM  Tampa Electric Company (\"Tampa Electric\" or the “company\"), pursuant to Sections 120.521 and 366.04, Florida Statutes petitions the Florida Public Service Commission (the “Commission\") for approval of an electric vehicle charging pilot program, and as grounds therefore, states: I. Preliminary Information 1. The Petitioner’s name and address are: Tampa Electric Company 702 North Franklin Street Tampa, Florida 33602  2. Tampa Electric is an investor owned electric utility subject to the Commission\\'s jurisdiction pursuant to Chapter 366, Florida Statutes.  Tampa Electric serves retail customers in Hillsborough and portions of Polk, Pinellas and Pasco Counties in Florida.  The company\\'s principal offices are located at 702 N. Franklin Street, Tampa, FL 33602. 3. This Petition represents an original pleading and is not in response to any proposed action by the Commission.  Accordingly, the Petitioner is not responding to any proposed agency action. 4. The persons to whom all notices and other documents should be sent in connection with this docket are:  '"
            ]
          },
          "metadata": {
            "tags": []
          },
          "execution_count": 10
        }
      ]
    },
    {
      "cell_type": "code",
      "metadata": {
        "colab": {
          "base_uri": "https://localhost:8080/",
          "height": 209
        },
        "id": "h8lZ9bl3fWOA",
        "outputId": "dd883faa-ac69-4251-eba8-29a73355098d"
      },
      "source": [
        "text1 = get_text_pdf_full('samp_elec.pdf')\n",
        "text1 = text1.replace('\\n','')\n",
        "text1"
      ],
      "execution_count": 11,
      "outputs": [
        {
          "output_type": "stream",
          "text": [
            "PdfReadWarning: Xref table not zero-indexed. ID numbers for objects will be corrected. [pdf.py:1801]\n"
          ],
          "name": "stderr"
        },
        {
          "output_type": "execute_result",
          "data": {
            "application/vnd.google.colaboratory.intrinsic+json": {
              "type": "string"
            },
            "text/plain": [
              "'  1  BEFORE THE FLORIDA PUBLIC SERVICE COMMISSION   In re:  Petition of Tampa Electric Company )  DOCKET NO.________________ for Approval of Electric Vehicle Charging ) Pilot Program               ) ___________________________________ )  FILED:  September 25, 2020   PETITION OF TAMPA ELECTRIC COMPANY FOR APPROVAL OF ELECTRIC VEHICLE CHARGING PILOT PROGRAM  Tampa Electric Company (\"Tampa Electric\" or the “company\"), pursuant to Sections 120.521 and 366.04, Florida Statutes petitions the Florida Public Service Commission (the “Commission\") for approval of an electric vehicle charging pilot program, and as grounds therefore, states: I. Preliminary Information 1. The Petitioner’s name and address are: Tampa Electric Company 702 North Franklin Street Tampa, Florida 33602  2. Tampa Electric is an investor owned electric utility subject to the Commission\\'s jurisdiction pursuant to Chapter 366, Florida Statutes.  Tampa Electric serves retail customers in Hillsborough and portions of Polk, Pinellas and Pasco Counties in Florida.  The company\\'s principal offices are located at 702 N. Franklin Street, Tampa, FL 33602. 3. This Petition represents an original pleading and is not in response to any proposed action by the Commission.  Accordingly, the Petitioner is not responding to any proposed agency action. 4. The persons to whom all notices and other documents should be sent in connection with this docket are:  NEW_PAGE  2    James D. Beasley   Paula K. Brown   jbeasley@ausley.com   regdept@tecoenergy.com   J. Jeffry Wahlen   Manager, Regulatory Coordination   jwahlen@ausley.com   Tampa Electric Company   Malcolm N. Means   (813) 228-1444   mmeans@ausley.com   (813) 228-1770 (fax)   Ausley & McMullen   Post Office Box 111   Post Office Box 391   Tampa, FL 33601   Tallahassee, FL 32302      (850) 224-9115      (850) 222-7560 (fax)  II. Statement on Disputed Issues of Material Fact 5. In compliance with paragraph (2)(d) of Rule 28-106.201, F.A.C., Tampa Electric states that it is not aware of any disputed issues of material fact at this time, and does not believe any disputed issues of material fact will arise in this docket, but acknowledges the possibility that other parties could assert disputed issues of material fact during this proceeding. III. Overview of Request 6. Tampa Electric seeks authorization for a plug-in electric vehicle (“PEV”) charger pilot program (“Pilot”). Under this Pilot, Tampa Electric will purchase, install, own, and maintain approximately 200 PEV charging ports within the company’s service territory.  The PEV charging ports will be deployed at Tampa Electric customer locations in five different market segments: (1) workplaces; (2) public/retail; (3) multi-unit dwellings; (4) income qualified; and (5) government.   7. Tampa Electric will partner with the owners of the chosen customer locations (“Site Hosts”) to coordinate installation, operation, and maintenance of the charging ports.  Tampa Electric will pay up to $5,000 per charge port towards the cost of installation of the charging equipment for workplace, public/retail and multi-dwelling segments, and the full cost of installation for income qualified and government locations.   NEW_PAGE  3  8. The objectives of the Pilot are to provide increased customer confidence in the availability of public charging locations, thereby supporting PEV adoption, and to provide Tampa Electric with valuable experience with public PEV charging infrastructure development and PEV charging load profile data.  9. The estimated total cost for the Pilot is $2 million, and Tampa Electric proposes a Pilot length of four years, after reaching full implementation. Through this petition, Tampa Electric requests authorization to proceed with the Pilot and authorization to recover the costs of the Pilot through base rates. IV. Statement of Ultimate Facts Alleged and Providing the Basis for Relief A.  Background – The State of the PEV Market in Florida 10. Several national-level forecasts show an accelerating adoption rate for PEVs in the coming years. The Edison Electric Institute (EEI) forecasts that sales of PEVs will exceed 3.5 million vehicles per year in 2030. EEI also projects that the cumulative number of PEVs on the road in the same year will reach nearly 19 million, or about 7 percent of the total number of vehicles on the road at that time.  Additionally, EEI forecasts that over 9 million charge ports will be needed to support those PEVs, with over 20 percent of those charge ports being located outside the home (public Level 2, public DC fast charging, and workplace). 1 11. Purchase data shows that PEV adoption is accelerating in Florida. In 2011, Floridians purchased 524 PEVs.2 In 2017, Floridians purchased over 7,500 PEVs. In total, Floridians have purchased over 60,000 PEVs to date.3    1 EEI, “Electric Vehicle Sales Forecast and the Charging Infrastructure Required Through 2030,” available at https://www.edisonfoundation.net/-/media/Files/IEI/publications/IEI_EEI-EV-Forecast-Report_Nov2018.ashx. 2 Auto Alliance, “Advanced Technology Vehicle Sales Dashboard 2018,” available at https://autoalliance.org/energy-environment/advanced-technology-vehicle-sales-dashboard/   3 Atlas EV Hub, “State EV Registration Data,” available at https://www.atlasevhub.com/materials/state-ev-registration-data/ (requires login). NEW_PAGE  4  12. A significant portion of these PEVs are registered in Tampa Electric’s service territory.  As of June of 2020, there were nearly 13,000 registered PEVs in the six-county Tampa Bay region. This represents more than 20 percent of the total statewide PEV fleet.4  13. Tampa Electric anticipates significant benefits from the increasing number of PEVs in the company’s service territory. These include reduction in GHG emissions, balancing the grid through off-peak charging, more efficient use of existing generating capacity, avoiding expensive grid upgrades through potential load control, building grid resilience through vehicle-to-grid (V2G) technologies, and other potential benefits.   14. Approval of Tampa Electric’s proposed Pilot will enable the company to manage the program in a manner that will avoid certain challenges that might otherwise occur, such as a potential increase in peak demand, grid overloading, costs of fast charging and other obstacles. For example, clustering of PEV chargers in some sections of the grid may overload transformers due to on-peak charging, multiple PEVs engaging in off-peak charging, or from inadequate design of transformers that were initially assumed to be underused at night.  15. The majority of PEVs currently charge at home with either Level-1 outlets (120V) or Level-2 chargers (240V). As longer-range PEVs become more common, however, a higher percentage of them can be expected to need to be charged with higher voltage chargers either at workplaces or at public charging sites.  As more PEVs enter the market, especially long-range PEVs with large batteries requiring less frequent, but faster charging, the increase in electric demand may require distribution-level upgrades to the grid.    4 Id. NEW_PAGE  5  B. The Pilot is in the Public Interest  16. Approval of this Pilot will enable Tampa Electric to meet these challenges and maximize the benefits associated with the increasing prevalence of PEVs.  Data collected during the Pilot period will provide Tampa Electric with valuable information regarding customer charging behavior, including when and where charging is taking place, and PEV load patterns in a variety of charging locations. This data will directly support long-term grid planning and reliability by allowing Tampa Electric to model the impacts and benefits of increased PEV adoption, including opportunities for managing peak demand through load-shifting. 17. The Pilot will also benefit Tampa Electric customers. Lack of public charging infrastructure, whether perceived or real, is recognized as one of the greatest barriers to PEV adoption. In the near-term, Tampa Electric customers who are considering purchasing or who currently own an PEV will benefit from increased accessibility to public charging infrastructure. In the long-term, all customers are expected to benefit from Tampa Electric’s first-hand knowledge of local PEV charging behavior and grid-related impacts.  Data collection from the Pilot will help Tampa Electric evaluate PEV-specific programs or measures that support and encourage PEV adoption.  18. This Pilot will also further the goals set out in Senate Bill 7018 (“Bill”), which was recently signed into law by Governor DeSantis.  In the Bill, the legislature found that “Ensuring the prompt installation of adequate, reliable charging stations is in the public interest.” The Bill directs the Commission to study and evaluate several topics, including “comparing the types of electric vehicle charging stations available,” “strategies to develop this supply of charging stations,” and “the type of regulatory structure necessary for the delivery of electricity to electric vehicles and charging station infrastructure, including competitive neutral policies and the NEW_PAGE  6  participation of public utilities in the marketplace.”  Tampa Electric’s proposed Pilot will collect data that the Commission can utilize in making these evaluations. C. Parameters of the Proposed Pilot 19. Under the proposed Pilot, Tampa Electric will own, operate, and maintain approximately 200 charging ports within the company’s service area.  These charging ports will primarily be comprised of Level 2 (208 or 240 volt) chargers, but the company will also install approximately four direct current fast chargers in certain locations. 20. Tampa Electric plans to engage a turn-key vendor for installation of the charging ports, provision of networking, operation, maintenance, and 24/7 customer support.  The company anticipates it will take approximately 12 months to complete deployment of the charging ports. 21. The charging ports will be located in five different market segments: (1) workplaces; (2) public/retail; (3) multi-unit dwellings; (4) income qualified; and (5) government.  Tampa Electric will select Site Hosts through an application process. Final selection will be based on scoring of the application and on-site evaluations performed by Tampa Electric and by vendor partners.  22. Tampa Electric will contribute up to $5,000 towards installation costs for each charging port in the workplace, public/retail, and multi-unit dwelling segments.  This cap on Tampa Electric’s contribution will incentivize Site Hosts in these market segments to minimize installation costs.   Tampa Electric will fund the full cost of installation for income qualified and government Site Hosts. Site Hosts may choose to fund installation of additional charging ports, subject to certain limitations. NEW_PAGE  7  23. During the Pilot, Tampa Electric will retain full ownership of the charging equipment and will provide full operation and maintenance service for that equipment.  Tampa Electric will also contract with a vendor that provides PEV charger billing services. 24. Tampa Electric will charge the Site Host for electricity consumed by the charging equipment at standard tariff rates.  The Site Host may choose to charge PEV drivers for charging or may provide charging at no cost to PEV drivers as an amenity.  If the Site Host chooses to charge PEV drivers, the charge will be limited to Tampa Electric’s then-current GS tariff rate, plus any telecom or administrative fees assessed by the billing vendor.  Limiting the PEV driver costs to these two options will help to limit the variability of data collection during the Pilot.  The billing vendor will collect the billing and charging data associated with the charging events and make it available to Tampa Electric for assessment.   25. Exhibit A to this petition is a more detailed description of the elements of the proposed Pilot including: (1) the type and number of charging ports proposed; (2) the market segments that Tampa Electric will target for recruitment of Site Hosts; (3) the rights and responsibilities of the Site Hosts; (4) service and pricing provided to charging customers of the Site Hosts; (5) implementation and electric service components; (6) data collection and reporting regarding the program and charging activity; and (7) options at the end of the Pilot period. 26. Tampa Electric has not completed development of all elements of the Pilot, in particular selection of vendors, equipment, and Site Host outreach.  Tampa Electric will proceed with some of this work but will wait for Commission approval to begin work on the remaining elements.  27. Tampa Electric will track installation costs, timing and issues associated with development, operation and maintenance of charging equipment, charging volumes at each NEW_PAGE  8  charging site as well as demand timing and impacts.  Tampa Electric will also evaluate the partnership between the company and the Site Hosts, including how the Site Host encourages use of the charging equipment and how Site Hosts identify and respond to problems that arise with PEV charging. D. Regulatory treatment of proposed Pilot assets and costs 28. Under this Pilot, Tampa Electric is not requesting any new rate tariffs.  Power will be sold to Site Hosts at tariff rates under either their existing electric service or via a separate service meter. Options for how Site Hosts may charge PEV drivers for use of the charging equipment are addressed in Section C, paragraph 24.  Tampa Electric will work with the Site Host to thoroughly evaluate the most cost-effective way to provide service to the PEV charging equipment. In every case, this will be through either an existing meter or through a newly installed meter to ensure the most cost-effective installation and most beneficial tariff rate. 29. Through this Petition, Tampa Electric seeks authorization for base rate recovery of the charging port investments as well as Pilot administration, operations, and maintenance expenses.   E. Pilot reporting 30. Tampa Electric will produce a final report on the key findings of the Pilot and provide the report to the Commission no later than year 3 of the Pilot. This final report will address the results of the Pilot, whether the Pilot resulted in the expected benefits, and an assessment of whether a more permanent PEV charging program merits a tariff revision request. Tampa Electric would also be willing to provide annual interim reports regarding Pilot progress if desired by the Commission.  NEW_PAGE  9  31. Once Tampa Electric has submitted the final report, the Commission may determine that the Pilot should terminate.  In this scenario, Tampa Electric will provide Site Hosts the opportunity to acquire all charging equipment at their respective sites for $1 and the Site Hosts will assume responsibility for all ongoing costs. Alternatively, the Commission may decide that Tampa Electric should continue the Pilot, in which case the company will file a new petition with the Commission to seek approval for a tariff revision to permanently implement the program. V. Relief Requested 32. Tampa Electric requests authority to implement the Electric Vehicle Charging Pilot Program, as described herein and in Exhibit A, for a period of four years.   WHEREFORE, Tampa Electric requests that the Commission approve the company\\'s proposed Pilot.  DATED this 25th day of September 2020.      Respectfully submitted,            ____________________________________      JAMES D. BEASLEY      jbeasley@ausley.com      J. JEFFRY WAHLEN      jwahlen@ausley.com      MALCOLM N. MEANS      mmeans@ausley.com      Ausley McMullen      Post Office Box 391      Tallahassee, FL 32302      (850) 224-9115       ATTORNEYS FOR TAMPA ELECTRIC COMPANY  NEW_PAGE  EXHIBIT A  PLUG-IN ELECTRIC VEHICLE CHARGING PILOT PROGRAM  NEW_PAGE  EXHIBIT A PLUG-IN ELECTRIC VEHICLE CHARGING PILOT PROGRAM (“PILOT”)  1. Overview A. Tampa Electric Company (“Tampa Electric” or the “company”) will purchase, install, own, and maintain a limited number of Plug-in Electric Vehicle (“PEV”) Charging Ports (“Ports”) within the Tampa Electric service area to provide increased consumer confidence for PEV adoption while providing the company with valuable experience with public PEV charging infrastructure development and PEV charging load profile data to support grid planning and reliability. B. The objectives of the Pilot are: a. Support Tampa Electric system planning  b. Ensure grid reliability c. Develop Tampa Electric competencies to serve the PEV market d. Meet customer needs in identified key markets e. Inform/develop Tampa Electric’s long-term strategy C. Approximately 200 Ports will be deployed at Tampa Electric customer locations.  Market segments evaluated for installation will be: a. Workplaces b. Public/Retail c. Multi-unit Dwellings d. Income Qualified e. Government D. To encourage active customer participation for the success of the Pilot, Tampa Electric is proposing a Pilot structure where the company’s maximum investment per-Port is $5,000 for workplace, public/retail and multi-unit dwelling market segments.  For income qualified and government market segments, Tampa Electric is proposing to cover the full installation and charging Port costs and will seek the most cost-effective host sites that best meet the Pilot objectives. E. Tampa Electric’s total cost for this proposed Pilot is estimated at $2 million. NEW_PAGE  F. The duration of the proposed Pilot will be four (4) years, the period commencing with the completion of all Ports associated with the Pilot.  2. Purpose of the Plug-in Electric Vehicle Charging Pilot Program A. Support customer transition to a decarbonized transportation sector. B. Increase PEV driver confidence by reducing range anxiety through increased access to PEV charging infrastructure in public settings. C. Provide Tampa Electric with a better understanding of PEV interaction with the local grid through the collection of Port and utility electric meter data including: a. PEV driver charging behaviors – How, when and where charging is taking place b. PEV charger utilization by geographic location within the Tampa Electric service area c. Demand and energy impacts per charging session d. Charging event duration e. Peak and Off-Peak occurrences f. PEV charging alignment with energy production from renewables g. Potential distribution system upgrades required for PEV charger installations D. Through data collection and Tampa Electric’s system modeling, evaluate potential future opportunities for Tampa Electric programs that support PEV adoption. E. Support state and local initiatives to prepare for an electrified transportation sector by: a. Identifying potential improvements to support local codes, ordinances or permitting processes b. Identifying potential gaps in the local distribution of public PEV charging infrastructure F. Develop Tampa Electric’s internal competencies to provide long-term support for the local PEV market including processes for host site selection, permitting and construction, as well as operation and maintenance of charging infrastructure.  3. PEV Charging Technology A. Tampa Electric will primarily install Level 2 (208 or 240 volt) Electric Vehicle Supply Equipment (“EVSE”), however the company will also install a limited number of NEW_PAGE  Direct Current Fast Chargers (“DCFC”), as higher-powered charging may better serve PEV drivers in certain locations.  Additionally, monitoring the utilization of Level 2 and DCFC locations will provide a more comprehensive dataset representing public PEV charging. B. The number of Ports installed in the Pilot is expected to be as follows: a. Approximately 200 Level 2 Ports at non-DCFC locations b. Four (4) DCFC: a) Each DCFC is expected to have two (2) Ports, one combined charging system compatible and one CHAdeMO compatible, to better serve PEV drivers.  b) Two (2) Level 2 Ports will also be installed at each DCFC location to serve as a level of limited redundancy at these locations with a low incremental cost.  These DCFC co-located Level 2 Ports (a total of 8) are not included in the Level 2 count above of 200. C. The Pilot proposes requiring EVSE utilizing Open Charge Point Protocol 1.6J or later and Open Automated Demand Response (“Open ADR”) 2.0 standards.  These standards will support a competitive bid process, allowing multiple vendors to apply to provide equipment and services. D. Evaluating Vehicle-to-Grid capabilities are not within the scope of this Pilot.  4. Market Segments A. Tampa Electric recognizes the responsibility to support all customers in the decision to adopt electric transportation.  As such, Tampa Electric has a goal of installing ten (10) percent of the total Level 2 Ports to serve income qualified communities, as defined in Section 288.9913(3), F.S. B. Tampa Electric also recognizes that government customers are interested in supporting a decarbonized transportation sector.  As such, Tampa Electric has a goal of installing ten (10) percent of the total Level 2 Ports at government locations. C. The breakdown of Ports within each identified market segment, based on the total number of Level 2 Ports in Item 3 above, is expected to be as follows: a. Workplaces    35 percent (est. 70 Ports) NEW_PAGE  b. Public/Retail    35 percent (est. 70 Ports) c. Multi-unit Dwellings   10 percent (est. 20 Ports) d. Income Qualified    10 percent (est. 20 Ports) e. Government    10 percent (est. 20 Ports) D. Tampa Electric’s contribution per Port at each host site will require a minimum and maximum number of Ports to be installed.  The distribution of Ports per host site within each market segment is expected to be as follows: a. Workplaces    2 required, 6 Ports max. b. Public/Retail    2 required, 6 Ports max. c. Multi-unit Dwellings   2 required, 6 Ports max. d. Income Qualified    Limited to 2 required Ports e. Government    Limited to 2 required Ports E. A site host may choose to install additional Ports beyond the maximum numbers for Tampa Electric contribution indicated in Item 4D.  In any case where a site host chooses to install additional Ports, the site host will be responsible for all costs associated with those additional Ports, including hardware, network services, installation, and ongoing maintenance.  In consideration of Tampa Electric’s contribution which helps to prepare the entire site for PEV charging, Tampa Electric will require access to data from the additional Ports to preserve the integrity of all PEV charging data for the entire site. F. The four (4) DCFC locations will be carefully evaluated to help ensure: a. 24/7/365 accessibility to PEV drivers b. Proximity to local travel corridors frequently used by PEV drivers c. The opportunity to serve multiple market segments from a single multi-functional location G. Site hosts will be selected in a way that helps to: a. Provide equitable distribution throughout the Tampa Electric’s service area b. Ensure PEV driver accessibility c. Fill potential charging infrastructure gaps realized during implementation d. Achieve fairness using selection criteria as discussed in Item 5, below NEW_PAGE  H. Tampa Electric will work with the selected vendor, leveraging their prior experience and expertise, to maximize an equitable deployment across the targeted market segments.  5. Site Host Participation A. Potential site hosts will have the opportunity to participate in the Pilot through a self-nomination process requiring submittal of an application. B. To help ensure an adequate pool of potential site hosts is being evaluated for participation, a self-nomination period will be established and communicated to Tampa Electric customers within each market segment.   C. Tampa Electric anticipates proactively communicating participation opportunities to customers through various channels to assure those in the targeted market segment are aware of the Pilot.  Additionally, to help ensure outreach to specific market segments, Tampa Electric will seek to engage with industry associations, as well as civic and environmental groups, to help create customer awareness.  Internal teams will also be leveraged including those involved in account management activities and government / community relations. D. Tampa Electric will review and score each application by market segment to determine if participation requirements and Pilot objectives can be achieved at the proposed site. E. Final determination for site host participation will require on-site evaluations by Tampa Electric and vendor partners supporting installation processes.  Host Site evaluations will include identifying any installation or participation concerns including site safety, power availability, PEV driver access, and actual costs for installation or site development. F. In every case, Tampa Electric will make the final determination on-site host selection. G. A site host agreement will be required for all installations, including proper indemnifications. H. To limit the variability of data collection during the Pilot period, and to help create a consistent experience across all Pilot participants, site hosts will have the option of providing PEV drivers with one of the following price structures for their charging: a. No-cost access to the EVSE; NEW_PAGE  b. A per kWh fee equal to Tampa Electric’s General Service (GS) rate (including all associated fees and charges) in effect at the time.  In this scenario, site hosts may also pass along to PEV drivers any network or transaction fees incurred, including any applicable taxes.  6. PEV Charging Participation A. Prior to beginning a charging session, EVSE users will have clear visibility into the pricing structure established at each location by the respective site host.  Tampa Electric expects to leverage on-site signage, site host communication and PEV charging web sites, such as PlugShare, to help provide EVSE users with pricing visibility.  B. Tampa Electric will enter an agreement with a network service provider (“NSP”), chosen by Tampa Electric through a future request for proposal (“RFP”) process, to manage the PEV charging transaction and PEV charging network data.  a. Site Hosts will also be required to enter into a similar agreement with the NSP. This is typically achieved with a standard contract. b. To use PEV chargers, users must also enter into a user agreement with the NSP.  This is typically achieved through a mobile app or website provided by the NSP. c. Tampa Electric’s access to charging data will be granted through the Site Host Agreement which will in-turn reference to those Downstream Agreements.  7. Implementation A. Tampa Electric will seek to engage in turn-key vendor services for efficiencies in the Pilot deployment and to include procuring hardware and network solutions, providing installation services, operation, maintenance, and ongoing 24/7 customer support.  Continuity of services throughout the Pilot period and a superior customer experience are of the highest priority. B. Tampa Electric team members will provide ongoing project management and oversight for all aspects of Pilot activities, including all direct site host interactions. C. Full deployment of the Pilot, including installation of the Ports, is anticipated to require approximately a 12-month period which will be dependent on outside factors including local permitting requirements and site host approvals. NEW_PAGE  8. Utility Electric Services A. Regardless of market segment identified or type of EVSE installed (Level 2 or DCFC), site hosts will be required to take electric service for EVSEs under this Pilot through an existing Tampa Electric meter (where adequate capacity is available on the site host’s service panel) or through a newly installed Tampa Electric meter, should this be the most cost-effective way to provide utility service to the EVSE. B. In either case above, existing applicable tariff rates and charges will be utilized to provide electric service to the host site.  9. Data Collection and Reporting A. For the duration of the Pilot, Tampa Electric will collect comprehensive data for each market segment, including but not limited to number of charging sessions, costs to PEV drivers, utilization of each technology type, installation costs, and load profiles. B. After reaching full implementation and on an annual basis until the completion of the Pilot period, Tampa Electric will report to the Commission on the data points collected and including narratives related to lessons learned during the deployment phase, ongoing operation and maintenance, and include site host or PEV driver feedback.  10. Pilot End of Term A. Tampa Electric recognizes that the PEV market continues to evolve based on variety of factors including PEV model availability and technology advancements for battery systems and charging infrastructure. B. Tampa Electric also recognizes that state and local policymakers are continually evaluating actions that could encourage PEV adoption, and that some of those actions could require, or at least benefit from, utility participation in the PEV charging market. C. During the four (4) year Pilot period, but no later than in year three (3), Tampa Electric will provide to the Commission a final report of all data collected and documenting the appropriateness to either extend the Pilot, change its parameters, make charging a permanent tariff service or conclude and terminate.   D. In the event Tampa Electric demonstrates, and the Commission approves, that Tampa Electric should conclude the Pilot with no further Tampa Electric involvement, site NEW_PAGE  hosts will have the opportunity to acquire all charging infrastructure (meaning the chargers themselves) at their respective sites for the sum of $1.  All ongoing costs associated with the PEV Ports, including maintenance and network charges will become the responsibility of the site host.  All other distribution investment made to serve the chargers will remain Tampa Electric property.   E. Should Tampa Electric determine, and learnings from the Pilot support, that it is appropriate to continue the Pilot in any capacity, Tampa Electric will file a new petition with the Commission to seek such approval.  During such a process, Tampa Electric will continue working with Site Hosts already participating in the Pilot to ensure continuity of PEV charging services to drivers.  11. Estimated Pilot Cost A. The total cost of the proposed Pilot is estimated at $2 million and reflected in the following estimations by market segment: a. Workplaces    $500,000 b. Public/Retail    $500,000 c. Multi-unit Dwellings   $150,000 d. Income Qualified    $275,000 e. Government    $275,000 f. DCFC    $300,000 B. The total cost of the proposed Pilot is also demonstrated as follows: a. Sites with maximum Tampa Electric contribution $800,000 b. Sites where Tampa Electric contributes full cost  $600,000 c. Tampa Electric Program Management   $250,000 d. Contingency      $350,000 C. Additionally, and beginning after full deployment of the proposed Pilot (years 2-4), O&M costs are estimated at $100,000 annually. D. Final costs will be determined through a combination of the future vendor RFP process and required host site evaluations to properly scope installation requirements. NEW_PAGE'"
            ]
          },
          "metadata": {
            "tags": []
          },
          "execution_count": 11
        }
      ]
    },
    {
      "cell_type": "code",
      "metadata": {
        "colab": {
          "base_uri": "https://localhost:8080/",
          "height": 191
        },
        "id": "aSi1LPqBviIN",
        "outputId": "372d37fa-4179-4bbd-8eac-f74f2d1eff77"
      },
      "source": [
        "text5 = get_text_pdf_full('duke_florida.pdf')\n",
        "text5 = text5.replace('\\n','')\n",
        "text5"
      ],
      "execution_count": 12,
      "outputs": [
        {
          "output_type": "execute_result",
          "data": {
            "application/vnd.google.colaboratory.intrinsic+json": {
              "type": "string"
            },
            "text/plain": [
              "'FLORIDA VIA ELECTRONIC FILING Adam J. T eitzman, Commission Clerk Florida Public Service Commission 2540 Shumard Oak Boulevru:d Tallahassee, Florida 32399-0850 December 18, 2020 FILED 12/18/2020 DOCUMENT NO. 13637-2020 FPSC - COMMISSION CLERK Matthew R. Bernier ASSOCIATE GENERAL COUNSEL Re: Duke Energy Florida, LLC\\'s Application for limited proceeding to approve 2017 second revised and restated settlement agreement, including certain rate adjustments; Docket No. 20170183-EI Dear Mr. Teitzman: Enclosed for filing on behalf of Duke Energy Florida, LLC (\"DEF\") is DEF\\'s Electric Vehicle Charging Station Pilot Program - 3rd Annual Report (December 2020), in accordance with Paragraph 17.f.ii of the 2017 Second Revised and Restated Settlement Agreement, which was approved in Order No. PSC-2017-0451-AS-EU, dated November 20, 2017. Thank you for your assistance in this matter. Please feel free to call me at (850) 521-1428 should you have any questions concerning this filing. MRB/cmk/cmw Enclosure Sincerely, Isl Matthew R. Bernier Matthew R. Bernier NEW_PAGE2  CERTIFICATE OF SERVICE  I HEREBY CERTIFY that a true and correct copy of the foregoing has been furnished via electronic mail to the following this 18th day of December, 2020.             /s/ Matthew R. Bernier                                    Attorney   Kyesha Mapp Margo DuVal Suzanne S. Brownless Office of the General Counsel Florida Public Service Commission 2540 Shumard Oak Boulevard Tallahassee, FL 32399-0850 kmapp@psc.state.fl.us mduval@psc.state.fl.us sbrownle@psc.state.fl.us  Jon C. Moyle, Jr. Moyle Law Firm, P.A. 118 North Gadsden Street Tallahassee, FL 32301 jmoyle@moylelaw.com  George Cavros 120 E. Oakland Park Boulevard, Ste. 105 Fort Lauderdale, FL 33334 george@cavros-law.com   J.R. Kelly Charles J. Rehwinkel Office of Public Counsel c/o The Florida Legislature 111 West Madison Street, Rm. 812 Tallahassee, FL 32399 kelly.jr@leg.state.fl.us rehwinkel.charles@leg.state.fl.us  Robert Scheffel Wright / John T. LaVia III Gardner Law Firm 1300 Thomaswood Drive Tallahassee, FL 32308 schef@gbwlegal.com jlavia@gbwlegal.com  James W. Brew / Laura W. Baker Stone Law Firm 1025 Thomas Jefferson Street, N.W., Ste. 800 Washington, DC  20007 jbrew@smxblaw.com lwb@smxblaw.com      NEW_PAGEDuke Energy Florida, LLC Electric Vehicle Charging Station Pilot Program 3rd Annual Report December 2020 ·fc DUKE ENERGY® NEW_PAGEDuke Energy Florida, LLC’s Electric Vehicle Infrastructure Pilot                   December 2020 1  Table of Contents EXECUTIVE SUMMARY .........................................................................................................................2 Program Background ............................................................................................................................2 Summary Program Year 2020 ..............................................................................................................3      Summary of Installations Statistics/Costs .......................................................................................5 PARK & PLUG PILOT PROGRAM ..........................................................................................................7 Objective ...............................................................................................................................................7 Program Approach ................................................................................................................................7      Equipment Deployed and Approach for Installation .......................................................................7      Site Host Acquisition .......................................................................................................................8 Program Segment Observations - 2020 ................................................................................................9      Multi-Unit Dwelling (“MUD”) .......................................................................................................9      Public Level 2 (“PL2”) ..................................................................................................................10      Workplace......................................................................................................................................10      DC Fast Charge .............................................................................................................................11 TRANSIT AGENCY COORDINATION – ZERO EMISSION BUSES ..................................................14 EDUCATION/OUTREACH .....................................................................................................................15 Appendix A – Terms & Conditions of Participation .................................................................................16 Appendix B – The EV Market in DEF Territory and Florida ....................................................................17  Appendix C – Map of Installed Park & Plug Locations – Municipalities .................................................18      NEW_PAGEDuke Energy Florida, LLC\\'s Electric Vehicle Infrastrncture Pilot December 2020 EXECUTIVE SUMMARY Program Background On November 20, 2017 the Florida Public Service Commission (\"FPSC\") approved the 2017 Second Revised and Restated Settlement Agreement (\"2017 RRSSA\") with Duke Energy Florida (\"DEF\") that included a provision to allow DEF to initiate a Pilot Program to install, own and operate electi·ic vehicle service equipment (\"EVSE\") infrastmcture within its service te1Tito1y (EVSE Pilot). DEF will sti·ategically install a foundational level of EV infrasti11cture to gather infonnation about DEF customer charging behavior and grid impacts of increasing EV adoption within the five (5) year EVSE Pilot through December 2022. The EVSE Pilot Program prescribes installation of equipment across segments and equipment type as shown in table 1 below and includes the April 2019 FL PSC approval for reallocation of po1is (note there was no change to overall minimum number of 530 ports). Table 1 - FL PSC Segments Segment Multi-unit Workplaces (WPC) Public Level 2 DC Fast Cha1·ge dwellings (MUD) Long Dwell Level 2 EVSE Technology Level 2 Level 2 Level 2 DC Fast Charging Initial Minimum 325 ports 100 po1·ts 75 ports 30 Units1 Allocated Po1ts Revised Minimum 210 ports 140 po1·ts 130 ports 50 units Potts Apartments Small, medium and Grocery, Interstate (I-4) Condominiwns large sized Restaw-ant Seconda1y Donnitories businesses Public Parking (US19, US27) Explanation/Locations Installed in Musewns Evacuation \"Cornmons Areas\" Routes • 10% of total po1ts will be installed into Income Qualified (IQ) areas defined by FL Statute Section 288.9913(3) • DEF shall coordinate with transit agencies to expand awareness of zero emission buses 1 The DC Fast Charge units will have two connectors, CHAdeMO & CCS Combo, to accommodate all fast charge capable vehicles. 2 NEW_PAGEDuke Energy Florida, LLC\\'s Electric Vehicle Infrastrncture Pilot December 2020 Summary Program Year 2020 Branded as Park & Plug (P&P), the EVSE Pilot continued to make progress towards reaching the minimum installed po1i goals for each segment after finishing 2019 with a total of 341 po1is installed. P&P completed installations of the overall minimum po1i requirement of 530 ports in 2020. This progress was achieved despite impacts from COVID-19, installation activity was cmiailed from the end of March through end of June - when DEF established stringent COVID-19 protocols to resume installation work. The 2020 year-end results are shown in Table 2 below: Table 2 - Incremental Installation Progress Through 2020 (as of 11/30/2020) Port Installation Status Through 2020 Minpo1i # po1i # po1i Remaining Segment install Installs end Installs Total po1i po1is for Installs segment Requirement 2019 2020 .. Illlllllll ums MUD 210 116 74 190 20 Workolace 140 101 45 152 0 Public L2 130 109 53 162 0 DC Fast Chargers 50 15 21 37 13 Totals 530 341 193 541 33 Low-Income installations - 83 of 53 minimum required po1is installed as of year-end 2020. As shown in Table 2, P&P has achieved minimum po1i goals in the Workplace and Public L2 segments. MUD and DC Fast Charger segments are fully subscribed to the minimum po1i goals and P&P expects to meet those installed segment goals by year-end 2020 or early in first quaiier of 2021. By the end of the third quaiier of 2020, P&P had acquired enough applications to fulfill the minimum port requirements and subsequently closed the program to new applications. All remaining po1is for installation have signed site host agreements that permit the installation to proceed to completion. 2020 produced the second full yeai· of program data. The data shows chai·ger utilization was affected by COVID-19 beginning in mid-March 2020; the program logged a low of 1,378 charge sessions in April, down from just over 4,000 sessions in Januaiy . As of the end of November 2020, chai·ging sessions have recovered to about 80% of the Januaiy 2020 high-water mark, as shown in Table 3 below. COVID-19 impacts are most visible in the Workplace segment, which made up the majority of chai·ging sessions before Mai·ch and remains below 50% of pre-COVID levels as many companies continue remote working protocols. The Public Level 2 segment has almost regained pre-COVID levels, while the MUD and DCFC segments have exceeded those levels, as shown in Table 4 below. 3 NEW_PAGEDuke Energy Florida, LLC\\'s Electric Vehicle Infrastrncture Pilot December 2020 Table 3 - System wide utilization in number of charging sessions last 12 months # Charging Sessions 2020 Entire System 4,500 4,104 4,000 ,_. COVID-19 i111pacts 3,500 \"\"\"\"\"\"\\' 3,255 \"\"\"\"\"\"\\' -3,000 --\"\"\"\"\"\"\\' 2,500 -\"\"\"\"\"\"\\' 2,000 1,500 1,378 \"\"\"\"\"\"\\' ........ 1,000 500 0 Dec-19 Jan-20 Feb-20 Mar-20 Apr-20 May-20 Jun-20 Jul-20 Aug-20 Sep-20 Oct-20 Nov-20 Table 4 - System wide utilization in number of charging sessions by segment last 12 months 4 NEW_PAGEDuke Energy Florida, LLC\\'s Electric Vehicle Infrastrncture Pilot December 2020 Summary of installation Statistics/Costs Table 4 - Port Installations/Invoiced Costs by Installation Contractor through November 2020 Level 2 # Capital Capital/Port O&M O&M/Port Total Cap+oM Total/Port *IQ Ports Ports MUD 190 $1,033,909 $5,441 $334,400 $1,760 $1,368,309 $7,201 10 WPC 152 $869,074 $5,717 $267,520 $1,760 $1,136,594 $7,477 26 Pubic Level 2 162 $953,120 $5,883 $285,120 $1,760 $1,238,240 $7,643 43 Total Level 2 504 $2,856,103 $5,666 $887,040 $1,760 $3,743,143 $7,426 79 DC Fast # Capital Capital/Port O&M O&M/Port Total Cap+oM Total/Port IQ Ports Chan~e Ports DC Fast Charge Units 37 $1,651,582 $45,872 $60,180 $1,671 $1,711,762 $47,549 4 Total 541 $4,507,685 N/A $947,220 N/A $5,451,905 N/A 83 *Income Qualified (IQ) Goal is 10% (53) of total 530 ports Table 5 - Charging Session Data October 2018 Through November 2020 # Charging Sessions kWh Dispensed # Pct of Income Pct of Pct of Income Pct of Segment Ports All All Qualified IQ All All Qualifie IQ (IQ) d MUD 190 5,617 11% 1123 14% 96,569 13% 19,313 15% WPC 152 20,269 41% 2030 25% 293,047 40% 32,235 25% Public Level 2 162 15,673 32% 4,074 50% 197,256 27% 63,121 50% DC Fast 37 7,807 16% 849 11% 138,607 20% 12,560 10% Totals 541 49,366 8076 725,479 127,229 25000 350000 293047 Total Charge Sessions - All Units 20269 300000 kWh Dispensed - All Units 20000 15673 250000 197256 15000 I 200000 I 150000 138607 10000 7807 5617 96569 I I 100000 5000 II I 50000 0 0 MUD DCFC Public L2 Workplace MUD DCFC Public L2 Workplace 5 NEW_PAGEDuke Energy Florida, LLC\\'s Electric Vehicle Infrastrncture Pilot December 2020 Overall System Utilization The graph below shows monthly kWh growth of system-wide energy utilization as installations occurred since program start. 70,000 60,000 50,000 .i:::: 40,000 ~ .>( 30,000 20,000 10,000 0 Monthly Total (kWh) The graph below shows total hourly load by segment. This baseline from the first year of P&P shows that Workplace and Public L2 charging both peak in the morning while DC Fast Charge and MUD charging peak later in the afternoon or evening. kWh 40,000.00 35,000.00 30,000.00 25,000.00 20,000.00 15,000.00 10,000.00 5,000.00 0.00 24 Hr Load Shapes - All Segments -MUD -workplace -Publicl2 -ocFast 1 2 3 4 5 6 7 8 9 10 11 12 13 14 15 16 17 18 19 20 21 22 23 24 HourofDay 6 NEW_PAGEDuke Energy Florida, LLC’s Electric Vehicle Infrastructure Pilot                   December 2020 7  PARK & PLUG PILOT PROGRAM Objective The objective of the EV Charging Station Pilot Program is to install a foundational level of EV infrastructure within the DEF service territory to gather information about DEF customer charging behavior and grid impacts of increasing EV adoption. Program Approach Equipment Deployed and Approach for Installation  P&P will install and operate “Smart Chargers” across the DEF service territory in minimum quantities shown in Table 1 (p. 2, above) and within the $8 million capital budget specified by the 2017 RRSSA. These Smart Chargers are units networked with cellular connections capable of remote operation that comply with Open Charge Point Protocol 1.6 (“OCPP 1.6”). This communications protocol ensures interoperability between the charging station hardware and network management systems to mitigate the risk of stranded assets. All EVSE procured by P&P will also be capable of communication via Open ADR. The Smart Chargers capture individual charge session data2 that is aggregated by the Greenlots network.3 DEF has 24/7 access to the Greenlots web portal to view unit status and download session data as needed. DEF Contractor - Through an open RFP process, DEF conducted a competitive bid to secure a turn-key installation contractor for duration of the EVSE Pilot period. DEF selected NovaCharge,4 a minority owned, Florida based company to provide equipment, installation services, communications networking, and customer service support. Network Communications - All EVSE deployed is connected to the Greenlots communications network via cellular nodes within each EVSE. The communications network allows data collection and remote management of units (i.e., price configuration, charging load management, and ability to “push” unit software upgrades). The Greenlots database captures data across the network at both individual unit level and segment level across the entire P&P system. Park & Plug will provide monthly usage reports to site hosts to monitor utilization and inform their decisions to offer charging to drivers as an amenity or at cost to the EV driver.5 EV drivers connect to the network via the Greenlots phone app, this phone app allows users to: • Find available units to charge • Enable charging sessions at the charging station  2 No personally identifiable information (PII) is captured by DEF. 3 For more information visit https://greenlots.com/.  4 For more information on NovaCharge, visit www.novacharge net.  5 The Greenlots network does not share PII.  NEW_PAGEDuke Energy Florida, LLC’s Electric Vehicle Infrastructure Pilot                   December 2020 8  • Pay for sessions6 (if applicable) • Have visibility into charging activity for their vehicle o View charging sessions in real time o View billed amount, if applicable, for each session o View history of charging activity on Park & Plug network Other phone apps available that will show the P&P stations include Plugshare.com, the Alternative Fuel finder on the website for the Department of Energy. Site Host Acquisition The DEF service territory is widespread and non-contiguous. DEF has acquired site hosts that represent the full spectrum of its service territory. See Map of installed locations in Appendix C. The initial approach to build program awareness was to leverage existing resources and supplement with targeted communications as necessitated by application need to fulfill FL PSC requirements within each segment. DEF has leveraged the following existing resources to build program awareness: • DEF Large Account Managers • DEF Small/Medium Business Managers • DEF Community Relations Managers • DEF Economic Development Managers • Municipalities - Referrals for Low-Income sites Note: By the end of the 3rd quarter of 2020, P&P had acquired enough applications to fulfill the minimum port requirements, subsequently, it closed the program for all new P&P applications. GIS Map Tool - DEF GS services created a GIS map with overlays that combines visibility into several key program data layers. Visibility of these layers provides the project team a guide for site host selection. Some of the layers on the GIS map include: • DEF Service Territory • Low-Income Census Tracts that meet Section 288.9913(3), F.S., per the FL 2017 RRSSA • P&P Applicants for locations across DEF service territory • Existing charging stations • Evacuation Routes    6 DEF established the FPSC approved prevailing GS-1 Flat rate as driver charge for those site hosts that elect to charge drivers for charging sessions. NEW_PAGEDuke Energy Florida, LLC\\'s Electric Vehicle Infrastrncture Pilot Program Segment Observations -2020 Multi-Unit Dwelling (\"MUD\") December 2020 The MUD segment installations increased through second half of 2019 and continued through 2020. Increased interest of MUD applicants resulted from a conce1ied outreach effo1i of direct contact to MUD customers. The majority of MUD site hosts who applied to the program were condominiums that involved locally elected condominium board associations in the decision-making process. Condominium parking an angement heavily dictates both the placement and the number of EV charging ports available to each site host; this is paiiicularly trne when pai·king spots ai·e deeded to owners. When spots are deeded to owners, there are typically only a few \"Commons Area\" pai·king spots potentially available for EV chai·ging stations. Deeded or not, Commons Area pai·king is still ve1y limited in MUD segment. P&P has seen a higher percentage of condominium installs elect to charge the drivers for their usage due to limited budgets condominium associations have to meet increased electricity demand from EV chargers. P&P has also installed MUD infrastrncture into apaiiment complexes. Typically, apaiiments ai·e owned by management fnms and approvals generally flow through a central co1porate strncture. This process of approvals differs from condominiums and their individual board associations. Because new stations were added to the network over the course of the yeai·, DEF represents the load curve by showing the total hourly utilization over the course of the yeai· in the graph below (11/1/2019-10/31/2020). The load curve for the MUD segment shows a typical residential load profile with a peak in the evening during the 9:00PM hour as residents return home from work or travel and plug in to recharge. • MUD 190 Po1is across 60 individual sites installed • MUD Ports chai·ging drivers for use - 106/190 = 56% ,-.. 6,000 ~ 5,000 c 4,ooo Q .g 3,000 l3 :.= 2,000 ·a :::> 1,000 0 MUD Segment Load Curve - 2020 111111111111111111 _____ 1 1 2 3 4 5 6 7 8 9 101112131415161718192021222324 Hour of day 9 NEW_PAGEDuke Energy Florida, LLC\\'s Electric Vehicle Infrastrncture Pilot December 2020 Public Level 2 (\"PL2\") Interest in PL2 charging remains ve1y high. PL2 is popular due to having more available sites that lend themselves to longer dwell time charging locations such as: municipal parking garages, hotels, and museums. P&P satisfied the minimum installed po1i goal in the third quaiier of 2020. Limited Parking available to convert to EV - Parking is at preinium within the core of many municipalities. This limited parking presents challenges to obtain multiple EV spots to suppo1i public EV chai·ging needs. The P&P program did have success with multiple po1i installs within municipal pai·king gai·ages. The P&P load curve for PL2 shows a steady load during n01mal business hours from 9am to 3pm with only a slight decrease into the evening, as public garages typically stay open past 5pm and other PL2 sites may be street parking that cater to local business operations in the ai·ea (e.g., restaurants). Usage does not decrease significantly until after 9pm into the overnight hours. • PL2 162 Ports across 74 individual sites installed • PL2 Ports chai·ging drivers for use - 81/162 = 50% Public L2 Load Curve - 2020 10,000 ,-,. 9,000 ~ 8,000 ,.__, Q 7,000 0 ·.:i 6,000 ~ :a ::::> 5,000 :>-. 4,000 ;:: ::, ~ 3,000 ] 2,000 ~ 1,000 0 I I I I I I I I -----I I 1 2 3 4 5 6 7 8 9 10 11 12 13 14 15 16 17 18 19 20 21 22 23 24 HourofDay Workplace The Workplace Charging (\"WPC\") segment also reached minimum po1i goal requirements by the third quaii er 2020. P&P has installed WPCs across businesses of all sizes, ranging from a few employees to hundreds of employees. 10 NEW_PAGEDuke Energy Florida, LLC\\'s Electric Vehicle Infrastrncture Pilot December 2020 While WPC was the largest component of P&P utilization pre-COVID, this segment has been slowest to recover utilization since the beginning of the shift to remote work in Mid-March. The WPC load curve shows higher usage during first half of nonnal workday as drivers plug in when they an ive at the workplace and staiis to taper off after 10am as EV batteries reach capacity. In 2021, DEF anticipates performing demand response activities potentially aimed at the peak area of the workplace load curve (e.g., one scenario would be to reduce unit KW dispensed and study grid as well as customer impacts). (DEF anticipates development of additional Demand Response Use cases related to other segments). • Workplace installed 146 Po1is across 44 individual sites • Workplace Po1is chai·ging drivers for use - 47/152 = 31 % Workplace Load Curve - 2020 25,000 f 20,000 ~ C 0 -~ 15,000 .!::! ·,.::; ::> ~ 10,000 :::, 0 :I: ro ~ 5,000 0 !!!!! !!!! 1 2 DC Fast Charge !!!! !!!! !!!! 3 4 5 I I ----6 7 8 9 10 11 12 13 14 15 16 Hour of Day I I I I I I I I 17 18 19 20 21 22 23 24 The P&P program installed 21 additional DC Fast Chargers in 2020 and utilization has steadily increased in spite of the COVID-19 pandemic. The number of chai·ging sessions has nearly doubled YTD versus 2019 and continues to suppo1i the ability of customers to drive electric vehicles across DEF\\'s service ten ito1y where there were previously paiiiculai·ly lai·ge gaps in access to DC Fast Chai·ging. P&P has found success with DC Fast Chai·ge installation at hotel chain locations as well as locally owned shopping areas. Constraints of the pilot agreement (i.e., allowable fee to charge drivers), prevented national chains from paiiicipating as they look to capture marginal revenue on chai·ging infrastructure. 11 NEW_PAGEDuke Energy Florida, LLC\\'s Electric Vehicle Infrastrncture Pilot December 2020 The P&P driver charge allows the site host to break even on electricity charges versus setting the fee to realize a marginal increase (gain) over electricity charges. Another successful source for P&P DC Fast Charge siting has been within the core areas of municipalities where the units serve multiple needs of drivers from visitors to MUD residents. The average load curve shown below reflects relatively steady utilization on average over the course of the day from 12 to 9pm, dropping to lower levels of utilization in the overnight hours. • DCFC installed 37 Ports across 23 individual sites • DC Fast Units charging drivers for use - 15/37 = 40% 6,000 ! 5,000 Q .g 4,000 ~ ~ 3000 ::::> \\' :>-. \"§ 2,000 ~ S 1,000 0 E-< 0 DC Fast Charge Load Curve - 2020 I I I I !!!!! I I I I ----I 1 2 3 4 5 6 7 8 9 10 11 12 13 14 15 16 17 18 19 20 21 22 23 24 Hour of Day Major and Key Secondary Corridor P&P DC Fast Charge Installations: P&P has also successfully connected many key evacuation routes and tourism conidors where there was previously no availability of EV fast charging (see map Appendix C). US 19/98 Corridor - P&P has installed DC Fast Charge units in Apalachicola, Dunedin, C1ystal River, and Peny to connect this official scenic Florida conidor with DC fast chargers. In addition, P&P DC Fast Charger installs provide coverage of a key Florida seconda1y conidor evacuation route and begins to address EV charging needs for evacuation routes beyond major interstates. US 27 Corridor - DC Fast Charge units placed in Sebring, Avon Park, Davenpo1i at 14, and Cagan\\'s Crossing just south of Clennont. US 27 is another key Florida secondary conidor and evacuation route. 1-4 Corridor - Deltona, Celebration, Championsgate, and intersection of US 27 Davenpo1i. 12 NEW_PAGEDuke Energy Florida, LLC’s Electric Vehicle Infrastructure Pilot                   December 2020 13  Florida Turnpike & US 301 – Installation of two DC Fast Charge units at Wildwood and the City of Zephyrhills. DEF is close to agreement with the Florida Turnpike Enterprise and their service plaza management firm, Areas, to place high power (150KW) units in the Turkey Lake and Canoe Creek service plazas.  Urban DCFC Installs – P&P has installed DC Fast Charge units within urban areas of some of our municipalities with great success, including the City of Largo Performing Arts Center and USF St. Petersburg, both of which have seen very high utilization. These urban DCFC serve multiple types of EV drivers including those without access to home charging as well as travelers and tourists visiting urban areas.   NEW_PAGEDuke Energy Florida, LLC\\'s Electric Vehicle Infrastrncture Pilot December 2020 TRANSIT AGENCY COORDINATION - ZERO EMISSION BUSES DEF has engaged the Pinellas Suncoast Transit Authority (PSTA) to align with PSTA\\'s path fo1ward to grow electric transit buses within their fleet. DEF and PSTA will work together to advance E Buses through direct investment and through strategic planning discussions that align PSTA\\'s load requirements for additional E buses with DEF system planning. Through a grant in 2018, PSTA received two fully electric transit buses manufactured by BYD7 and will receive another four BYD electric buses by end of 2020. To suppo1i charging these four E buses PSTA purchased two 80KW DC Fast Charging units that are installed at the main PSTA bus depot at 3201 Scherer Dr. in St Petersburg, FL. P&P will fund the expansion of an additional four depot chargers to suppo1i the new buses. The chargers for these buses use a proprietaiy connector standai·d. 8 In exchange for funding the purchase and installation of these E-bus chai·gers, DEF and PSTA negotiated an agreement that requires PSTA to provide DEF with chai·ging data from the four BYD depot units. P&P has collected one yeai· of data on the PSTA buses, though the second bus was placed in on-route service in mid-2020. Below is charging data for the two PSTA electric transit buses operational in 2020. The initial data indicates substantial cost and emissions savings associated with the buses. DEF is working with PSTA to produce a more robust analysis of the savings for future repo1is. Table 6 - E Bus Statistics Dec 2018 through Nov 2020 Total Miles Driven kWh from charging 75,224 113,440 Cost of Electric $ 14,747 Equivalent Diesel Cost $ 28,284 Savings $ 13 537 PSTA Electric Bus Charging Load Curve N•me e 10110 . 18111 10% 8% 6% 4% 2¾ 0% lam 7 BYD is the electric bus manufacturer. 10 Eouivalent Gals of Diesel (5 moe: average) 15,044 IS ~o 12pm 12am 8 For all other installations of DC Fast, Park & Plug will use DC Fast chargers that have the industry standard connectors, CHAdeMO and CCS Combo. 14 NEW_PAGEDuke Energy Florida, LLC\\'s Electric Vehicle Infrastrncture Pilot December 2020 EDUCATION/OUTREACH Due to the COVID-19 pandemic, 2020 has been difficult year to conduct EV outreach activities, with the bulk of events held prior to March 2020. As a result of social distancing, outreach events for the program have shifted to social media and digital ad fonnats when possible. The program has developed plans for 2021 outreach spend that will satisfy the remaining investment in this pilot requirement. Table 7 - Outreach Spend 2020 Communication 2018 2019 2020 2021 Forecast Actual Method Actuals Actuals Actuals Forecast Totals Totals Streaming Audio 0 $21,580 0 $44,000 $65,580 $21,580 Out of Home (Digital 0 $14,664 $42,630 $11,370 $68,664 $57,294 Billboards) Paid Social Media 0 $62,006 $23,069 $36,645 $121,720 $85,075 Paid search and 0 $29,236 0 $47,000 $76,236 $29,236 YouTube Community Events $2,500 $5,300 $30,934 $29,066 $67,800 $36,234 Totals $2,500 $132,786 $96,633 $168,081 $400,000 $229,419 • Actuals through October 31, 2020. • Outi·each budget is up to $400,000 per the 2017 RRSSA. Outreach Events in 2020 • Januaiy 15, 2020 - Maiiin Luther King Day Parade and event downtown St Petersburg and Tropicana Field - an example of social equity ouu-each to the community. • Febrnaiy 27, 2020 - Lunch & Learn and Ride & Drive event at major employer in St Petersburg -attended by 60 employees with over 60 EV test drives. • August 11, 2020 - Site Host Webinai· provided as mid-program check in for all P&P site hosts. 15 NEW_PAGEDuke Energy Florida, LLC’s Electric Vehicle Infrastructure Pilot                   December 2020 16  Appendix A - Terms & Conditions of Participation  General Terms & Conditions • DEF will provide the equipment, installation, warranty and network connection services free of charge through December 2022 of the pilot program • Site hosts will be responsible for the cost of electricity used by the charging station • Site hosts can provide stations under two options: o Option 1: As an amenity to drivers o Option 2: Charge a fee to the driver enabled by a smartphone or RFID card To participate as a Park & Plug site host, one must: • Be a current DEF customer • Agree to participate in the program through December 2022  • Site hosts agreement required • If required, agree to establish a separate account, meter, and be responsible for ongoing tariff charges (DEF will install the new meter at no cost) • Meet site location requirements  • Safe, well-lit area • Paved • Adequate ingress/egress • Adequate power in close proximity to chosen site • Provide one parking space per charging port • Provide non-discriminatory access to EV charging spots DEF will evaluate applications for site hosts that meet minimum participation requirements, along with additional qualitative factors, including: • Potential for high utilization • 10% of charging stations will be installed in income-qualified communities, as defined by Florida statute • For public installation, proximity to amenities for the EV driver will be given preference  DEF reserves the right to refuse applications that may not meet the intent of the pilot program  NEW_PAGEDuke Energy Florida, LLC’s Electric Vehicle Infrastructure Pilot                   December 2020 17  Appendix B - The EV Market in DEF Territory and Florida   • Number of additional EVs9 registered in DEF service territory: 2017 = 1,212 2018 = 1,595 2019 = 1,929 2020 – 1625 Registrations added each year in service territory        9 EVs include both plug-in hybrid and all electric vehicles Florida EV Registration Data Source: Atlas EV Hub  NEW_PAGEDuke Energy Florida, LLC\\'s Electric Vehicle Infrastrncture Pilot December 2020 Appendix C - Map of Installed Park & Plug Locations - Municipalities Cle1m ont C1 stal River e Inverness Lake Coun C Fast Char e B oun!slown w Tallahassee 0 1StJoe . Wakulla Spr::\\'gs Crawf~rdville Carrabelle 0 DC Fast Charge Workplace 1-IUD Public LeYel 2 @} Madison ~ . G . @) @. Site Hosts Monticello Tavares Ze h -hills ~ Live Oak •WMe Springs . LaktCity (§) H gh S_Pnngs 0 Ala<:hua GJ Gainesville 0 Jacksonville 0 0 Jacksonv1lle Beach Orange Parl( 0 Palatka 0 St. Augustine \" . St Augustine Beach Cross City Palm Coast 0 Cl Sarasota 0 ([l @) Ocala Ocala National <> Forest @) Daytong Be, Merrit 18 NEW_PAGE'"
            ]
          },
          "metadata": {
            "tags": []
          },
          "execution_count": 12
        }
      ]
    },
    {
      "cell_type": "code",
      "metadata": {
        "colab": {
          "base_uri": "https://localhost:8080/",
          "height": 191
        },
        "id": "N2m3XKkRvpxQ",
        "outputId": "1fe247f0-3f90-4bda-f4e5-f49623e84666"
      },
      "source": [
        "text6 = get_text_pdf_full('duke_carolinas.pdf')\n",
        "text6 = text6.replace('\\n','')\n",
        "text6"
      ],
      "execution_count": 13,
      "outputs": [
        {
          "output_type": "execute_result",
          "data": {
            "application/vnd.google.colaboratory.intrinsic+json": {
              "type": "string"
            },
            "text/plain": [
              "'STATE OF NORTH CAROLINA UTILITIES COMMISSION RALEIGH DOCKET NO. E-2, SUB 1197 DOCKET NO. E-7, SUB 1195 In the Matter of Application by Duke Energy Carolinas, LLC, and Duke Energy Progress, LLC, for Approval of Proposed Electric Transportation Pilot  ) ) )   ORDER APPROVING ELECTRIC TRANSPORTATION PILOT, IN PART  HEARD: Thursday, November 21, 2019, at 10:30 a.m., in Commission Hearing Room 2115, Dobbs Building, 430 North Salisbury Street, Raleigh, North Carolina BEFORE: Chair Charlotte A. Mitchell, Presiding; Commissioners ToNola D. Brown-Bland, Lyons Gray, Daniel G. Clodfelter, Kimberly W. Duffley, and Jeffrey A. Hughes APPEARANCES: For Duke Energy Carolinas, LLC, and Duke Energy Progress, LLC: Kendrick C. Fentress, Associate General Counsel, Duke Energy Corporation, 410 South Wilmington Street, NCRH 20/Post Office Box 1551, Raleigh, North Carolina 27602 Robert W. Kaylor, Law Office of Robert W. Kaylor, P.A., 353 East Six Forks Road, Suite 260, Raleigh, North Carolina 27609 Dwight Allen, Allen Law Offices, PLLC, 1514 Glenwood Avenue, Suite 200, Raleigh, North Carolina 27612 For North Carolina Sustainable Energy Association: Peter Ledford, General Counsel, and Benjamin Smith, Regulatory Counsel, North Carolina Sustainable Energy Association, 4800 Six Forks Road, Suite 300, Raleigh, North Carolina 27609 For North Carolina Justice Center and Southern Alliance for Clean Energy: Nick Jimenez, Southern Environmental Law Center, 601 West Rosemary Street, Suite 220, Chapel Hill, North Carolina 27516 NEW_PAGE2 For Sierra Club: Matthew D. Quinn, Lewis & Roberts, PLLC, 3700 Glenwood Avenue, Suite 410, Raleigh, North Carolina 27612 For the Using and Consuming Public: Dianna Downey, Staff Attorney,1 Public Staff – North Carolina Utilities Commission, 4326 Mail Service Center, Raleigh, North Carolina 27699-4300 BY THE COMMISSION: On March 29, 2019, Duke Energy Carolinas, LLC (DEC), and Duke Energy Progress, LLC (DEP; collectively, Duke or the Companies), filed an application in the above-captioned dockets pursuant to N.C. Gen. Stat. § 62-140 and various Commission rules requesting approval of Duke’s proposed electric transportation pilot (ET Pilot). On April 4, 2019, the Commission issued an order requesting comments and reply comments on Duke’s proposal. Petitions to intervene were filed by and granted for the North Carolina Sustainable Energy Association (NCSEA), Sierra Club, ChargePoint, Inc. (ChargePoint), Environmental Defense Fund (EDF), North Carolina Clean Energy Business Alliance (NCCEBA), Zeco Systems, Inc. d/b/a Greenlots (Greenlots), and jointly Southern Alliance for Clean Energy and the North Carolina Justice Center (SACE/NCJC). The intervention and participation by the Public Staff is recognized pursuant to N.C.G.S. § 62-15(d) and Commission Rule R1-19(e). On or before July 5, 2019, initial comments were filed by NCCEBA, SACE/NCJC, ChargePoint, EDF, Greenlots, NCSEA, Sierra Club, and the Public Staff. Reply comments were filed by Duke, EDF, ChargePoint, Greenlots, SACE/NCJC, and Sierra Club. In addition, the Commission received over 30 consumer statements of position, most of which expressed support for the proposed ET Pilot. By orders issued October 25, 2019 and November 1, 2019, the Commission scheduled a hearing in this matter and notified parties of the topics to be addressed. On November 21, 2019, the Commission held a hearing to obtain additional information on the public interest and ratemaking implications of Duke’s proposed ET Pilot. On December 17, 2019, the Commission issued an order requesting proposed orders from the parties. On February 28, 2020, proposed orders were filed by Duke, the Public Staff, Greenlots, and jointly by SACE, NCJC, EDF, and Sierra Club. In addition, Duke and ChargePoint filed a Settlement Agreement. On April 24, 2020, Greenlots filed a motion requesting that the Commission allow parties to file comments and reply comments on the Settlement Agreement.  1 Ms. Downey was subsequently named Chief Counsel of the Public Staff. NEW_PAGE3 On May 5, 2020, ChargePoint and Duke filed separate responses in opposition to Greenlots’ motion. On June 3, 2020, the Commission issued an order denying Greenlots’s motion to allow comments and reply comments on the Settlement Agreement. SUMMARY OF APPLICATION Duke states that in 2011 the Commission first approved DEC’s request to conduct a plug-in electric vehicle (EV) charging station load research study pursuant to which DEC provided EV charging stations with up to $1,000 of installation fees to 150 residential customers who bought or leased a plug-in EV in DEC’s service area. Order Approving Study, Application by Duke Energy Carolinas, LLC, for Approval of Proposed Study on the Impact of Charging Plug-in Electric Vehicles on the Grid, No. E-7, Sub 969, (N.C.U.C. Mar. 22, 2011). DEC initiated the study with the objective of collecting data about its customers’ EV charging behaviors for a two-year period to better understand the impact that charging EVs would have on power demand, transformers, cabling, and other infrastructure. By the conclusion of the study period, explains Duke, DEC had developed a baseline understanding of residential customer light-duty EV charging behavior, average energy consumption of EV charging, and average purchase and installation costs of early market electric vehicle supply equipment (EVSE). Duke further states that since the conclusion of the study the EV market has grown and evolved as more EV models have become available. Duke posits that EV adoption has occurred at more than twice the rate of traditional hybrids and that the EV market in North Carolina has increased significantly, with a compound annual growth rate of 39% since 2011. Further, Duke notes that in 2017, 2,055 passenger EVs were registered in North Carolina, and in August 2018, EVs made up 1.1% of North Carolina’s light-duty vehicle market. Additionally, Duke explains, EV technology has advanced significantly since DEC conducted the initial study. For example, EVs now contain larger batteries, charge at higher power levels, and have expanded to multiple market segments not previously offered. Duke notes that forecasts indicate the future adoption of passenger EVs in North Carolina will range from 3% to 8% of light-duty vehicle stock by 2025, depending on several influencing factors, including: a) vehicle availability, b) infrastructure availability, and c) state and local EV policies. Duke takes the position that more investment in EV charging infrastructure will accelerate EV adoption in the state, consistent with the intent of certain state policies, such as those set forth in Executive Order No. 80 issued by Governor Roy Cooper on October 29, 2018 (EO 80), as well as with the fast-developing EV market. To that end, Duke has conducted research to demonstrate the potential benefits to the electric system and to customers of increased EV adoption and the potential for utility-managed charging to enhance those benefits. Duke explains that it designed the proposed ET Pilot to determine best practices for realizing significant potential benefits of increased electric transportation adoption in North Carolina, including the long-term potential for downward rate pressure, retaining fuel cost savings in North Carolina, reducing vehicle emissions, and improving air quality. NEW_PAGE4 Description of the ET Pilot The ET Pilot consists of seven programs to be in effect over a three-year period addressing three areas of concern: EV charging management, transit electrification, and public charging expansion. For EV charging management, Duke proposes the residential EV charging program and the fleet EV charging program. For transit electrification, Duke proposes the EV school bus charging program and the EV transit bus charging program. For public charging expansion, Duke proposes the multifamily dwelling charging station program, the public Level 2 charging station program, and the direct current fast charging station program. Duke attached proposed tariffs for each of the programs to its application. EV Charging Management • Residential EV Charging: Designed to evaluate whether providing a rebate to support the installation of EVSE encourages EV adoption and to establish procedures to determine the value and viability of utility-managed charging. The program provides a rebate of $1,000 for up to 500 DEC and 300 DEP residential customers in exchange for participation in the program, which will include transmission of charging load data to the utility as well as utility management of home charging during defined hours. • Fleet EV Charging: Designed to support the installation of EVSE for public and private entity fleets, to encourage the use of EV fleets, and to collect utilization characteristics of EV fleet charging behavior for a variety of EV types and weight classes to better understand potential grid and utility impacts of this EV market segment. The program provides a $2,500 rebate to commercial and industrial customers that operate fleet vehicles. Participating customers must install all EVSE behind a separate meter taking service on an available commercial time-of-use (TOU) rate. DEC will offer no more than 500 total EVSE rebates, and DEP will offer no more than 400 total EVSE rebates. Transit Electrification • EV School Bus Charging: Designed to facilitate the replacement of older diesel school buses with zero-emission school buses in public school transportation systems, the installation of EVSE to facilitate market adoption, and the collection of data on utilization and other load characteristics to understand grid and utility impacts and explore the potential for bidirectional power flow from EV school bus (EVSB) batteries. Under this program DEC and DEP seek to aid in the deployment of approximately 55 and 30 electric school buses, respectively, by funding up to $215,000 per bus on a first-come, first-served basis to school districts willing to purchase an electric school bus with bidirectional power flow capabilities. Participating customers will allow access to all vehicle charging data and perform testing of charging load management and bidirectional charging capabilities. By testing the bidirectional capabilities of an EVSB, the school bus battery will operate as a grid asset, and Duke will NEW_PAGE5 retain the right to repurpose the EVSB battery after its useful vehicle life as a second-life storage asset. • EV Transit Bus Charging: Designed to support EV transit bus (EVTB) adoption and to collect data on utilization and other load characteristics to understand potential grid and utility impacts. DEP and DEC will install and own qualifying EVSE selected by the transit agency. In DEC 60 stations would be eligible for funding, and in DEP 45 stations would be eligible for funding. Public Charging Expansion • Multifamily Dwelling Charging: Designed to provide access to residential charging for residents of multifamily dwellings. DEC and DEP will install, own, and operate Level 2 (L2) EVSE and collect a charging fee based on the marginal energy component of the applicable utility’s currently approved Small General Service schedule, plus $0.02/kilowatt-hour (kWh) to cover network platform and transaction fees. Duke proposes to deploy 100 stations in DEC’s service territory and 60 stations in DEP’s. DEC and DEP will offer multiple brands of EVSE hardware from which the site host can select. • Public Level 2 Charging: Designed to provide a base level of destination charging for drivers in DEC’s and DEP’s service territories. DEC and DEP will install, own, and operate L2 EVSE and collect a charging fee based on the marginal energy component of the applicable utility’s currently approved Small General Service schedule, plus $0.02/kWh to cover network platform and transaction fees. Duke proposes to deploy 100 stations in DEC’s service territory and 60 stations in DEP’s. • Direct Current Fast Charging (DCFC): Designed to deploy a foundational level of fast charging infrastructure to facilitate long-distance travel throughout the service territories. DEC intends to install, own, and operate a network of up to 70 fast chargers across approximately 35 individual locations in its service territory, and DEP intends to install, own, and operate a network of up to 50 fast chargers across approximately 25 individual locations in its service territory. Stations will include charging equipment with electrical demand requirements of 100 kW or greater. Program Costs Over the proposed three years of the Pilot, DEC’s estimated cost for the ET Pilot is $45,580,250, and DEP’s estimated cost is $30,438,250. Duke provided the following cost breakdown per utility, per program. NEW_PAGE6  DEC DEP Residential Rebate $1,175,000 $705,000 C&I Fleet Rebate $1,925,000 $1,540,000 EV School Bus $11,981,750 $6,535,500 EV Transit Bus $4,671,000 $3,503,250 Multifamily L2 $1,285,000 $771,000 Public L2 $1,285,000 $771,000 DC Fast Charge Network $20,107,500 $14,362,500 Education and Outreach $2,025,000 $1,350,000 Ongoing O&M  $1,125,000 $900,000 Utility Total $45,580,250 $30,438,250 Combined Total  $76,018,500  Although the application does not seek cost recovery for the ET Pilot, the Companies state that DEC and DEP intend to seek to recover the costs of the ET Pilot programs through their respective base rates. SUMMARY OF COMMENTS, TESTIMONY, AND SETTLEMENT Initial Comments Public Staff The Public Staff conducted a detailed investigation of the application and DEC’s and DEP’s responses to numerous data requests, as well as a review of pilot programs of other electric utilities and discussions with other stakeholders and state agencies from in and outside North Carolina. As a result of this investigation the Public Staff concludes that the proposed ET Pilot does not meet the parameters of a pilot in which DEC and DEP would undertake a proof-of-concept through a scalable project. The Public Staff concludes that DEC and DEP have failed to demonstrate that the estimated cost of the ET Pilot is necessary to learn more about serving current and future EV load. The Public Staff notes that the Companies and their affiliates have conducted similar programs both in North Carolina and in other jurisdictions, and the Public Staff takes the position that DEC and DEP have provided no evidence demonstrating that North Carolina customers are sufficiently unique to justify another pilot program or that the results of previous or ongoing pilot projects and other publicly available industry data are insufficient to meet Duke’s needs. The Public Staff takes the position that DEC and DEP are requesting preapproval of infrastructure investments associated with electric transportation that would be funded by customers and notes that absent a certification requirement, the Commission generally does not preapprove utility capital investments. Ultimately, the Public Staff recommends that the Commission deny the application. With respect to the scope of the ET Pilot, the Public Staff takes the position that the ET Pilot is designed to obtain infrastructure-related data that is likely already publicly NEW_PAGE7 available, or will be available within the next 12 to 18 months, from other utilities and jurisdictions. That data includes load patterns related to EV charging, the impact of managed charging, and how managed charging can shape load patterns and customer charging behavior. Additionally, the Public Staff notes that because EV-related loads are not weather sensitive, load shapes experienced by other utilities (residential and nonresidential) should be indicative of the load shapes of North Carolina consumers. The Public Staff concludes that there is no reason to believe that the results of a North Carolina pilot would find otherwise. The Public Staff also believes that any EV-related tariffs developed by other utilities would likely be adaptable in North Carolina. In short, the Public Staff concludes that there is no reason to duplicate those efforts here by approving the ET Pilot. The Public Staff suggests that only the Residential EV Charging and Fleet EV Charging programs arguably qualify as pilots, but there are critical omissions from those programs that would support such a finding. The Public Staff notes that while the Residential EV Charging program would evaluate active managed charging via onboard load control capabilities in the second year, the program does not evaluate passive managed charging through experimental rate designs and other mechanisms. The Public Staff notes that any pilot project should explore the vast array of mechanisms to determine what drives, and does not drive, customer behavior. The Public Staff notes that the Fleet EV Charging program is similarly lacking in experimental rate designs and that the inclusion of various experimental rate designs and other mechanisms would render these programs more characteristic of a pilot. The Public Staff takes the position that the various public charging station programs are merely capital projects and that no unique learning opportunities arise out of the construction of charging stations across the state, especially given the cost. With respect to evaluation and metrics, the Public Staff notes that the value of a pilot project is to allow a utility to test a concept at a smaller scale without incurring significant costs that ultimately would be borne by customers. A pilot must have clearly defined objectives and goals that would define success (or failure) and justify (or not) a broader, permanent program. The Public Staff concludes that the ET Pilot contains no objectives, metrics, goals, or other means of evaluating whether the programs are a success or failure. With respect to the cost-benefit analysis filed by DEC and DEP in support of the application, the Public Staff notes the similarity to other cost-benefit studies conducted by the same author for other utilities in other jurisdictions, including Duke Energy Florida, LLC (DEF). Overall, the Public Staff believes these studies to be reasonable attempts at quantifying the benefits and costs of EV adoption at various levels in a general sense. However, the Public Staff identifies several concerns with the study, including the use of a more carbon-intensive generation portfolio than DEC and DEP anticipate in their IRPs when estimating typical emissions per kWh of electricity as well as the high degree of uncertainty in the projections of EV penetration beyond 2025. Ultimately, the Public Staff takes the position that the Commission should give limited weight to the study. The Public NEW_PAGE8 Staff points out, though, that the cost-benefit analysis was not intended to provide a template for a cost-benefit analysis for each of the individual programs in the ET Pilot and that DEC and DEP have not conducted cost-benefit analyses for the individual programs. The Public Staff notes that individual program cost-benefit analyses should be performed to ensure that spending on any individual program is cost-beneficial. NCSEA NCSEA supports the deployment of EVs and charging infrastructure but cautions that such investment should be made in a way that supports all market participants. NCSEA requests that the Commission open a stand-alone proceeding to examine the issue and determine the goals of deploying EV charging infrastructure. NCSEA further requests that the Commission deny the Companies’ petition to make capital investments for EV infrastructure and, instead, direct Duke to develop and propose an EV “make-ready” program. NCSEA disagrees with the Companies’ assertion that the ET Pilot would allow the Companies to install a foundational level of charging stations in North Carolina and states that through data requests Duke provided conflicting information on whether the Companies will be providing a significant number of the total stations needed to support EV demand and the goals of EO 80. According to NCSEA, this results from Duke’s confusing plugs with stations, ignoring already expanding EV infrastructure in the state, and excluding Tesla stations from its analysis, all of which NCSEA deems improper. NCSEA opines that through the ET Pilot the Companies will serve roughly two-thirds of the EV market. NCSEA expresses concerns that Duke’s knowledge of the grid is more problematic than the Companies acknowledge with respect to the development of the market. Rather than using Customer Site Investigations, NCSEA argues that the Companies should not proceed with the ET Pilot until they can more economically evaluate potential sites using integrated distribution planning or hosting capacity maps. Further, NCSEA is concerned that the Companies’ knowledge of the grid could be used to monopolize the market for EV infrastructure. Essentially, NCSEA believes that the Companies’ knowledge of where expensive upgrades would be required would cause Duke not to use those sites and to leave the expensive sites for potential competitors. NCSEA also questions the Companies’ focus on the DCFC market as opposed to Level 2 plugs and hybrid gas/electric vehicles. NCSEA states that the DCFC plugs are not currently compatible with demand-side management methods like Level 2 plugs and could increase load, which would require more peaking generation capacity. NCSEA agrees with the Companies’ goal to provide underserved communities with access to charging stations but questions whether the Companies’ proposal facilitates the achievement of that commitment. NEW_PAGE9 NCSEA disagrees with the Companies’ proposal to recover some of its EV costs through base rates while competing providers will have to rely solely on their EV customers. NCSEA argues that this proposal amounts to prohibited single-issue ratemaking outside the context of a general rate case. NCSEA advocates for a make-ready program in which the Companies would provide infrastructure to the point where a charging station could be installed by another provider. NCSEA argues this would be consistent with the Companies’ line extension policies approved by the Commission. NCSEA is not opposed to the rebates in the Companies’ proposal but requests that the rebates be decreased from $1,000 to $500. As to rate design, NCSEA opposes the Companies’ proposed TOU rate and suggests the Companies should develop EV-specific tariffs including no demand charge, a fixed charge relating to customer-specific costs, and a time-varying energy rate. NCSEA opposes the first-come, first-served basis of the EV School Bus and EV Transit Bus programs, arguing that would benefit wealthier counties and cities that would use up the rebates before poorer areas are able to participate. NCSEA suggests that the Commission implement some “scoring criteria” to ensure the rebates are given equitably across the state. Lastly, NCSEA asks the Commission to require the Companies to hire a third party to market the program and increase reporting to the Commission. NCCEBA NCCEBA opposes the proposed ET Pilot, taking the position that the proposal will have a substantial and deleterious effect on the EV charging market in North Carolina. NCCEBA asserts that the Companies’ entry into the market will create an encroachment of monopoly activity into a growing competitive market. Further, NCCEBA states that the Companies will control 25% of Level 2 charging stations and 50% of DCFC stations. NCCEBA also disagrees with the Companies’ view of the EV market and takes the position that the EV market is currently expanding quickly enough to meet market needs. SACE/NCJC SACE/NCJC generally support the Companies’ proposed ET Pilot, recognizing many positive impacts of EVs, including lower cost, downward pressure on electric rates, and environmental benefits. SACE/NCJC also note impediments to EV adoption, including costs of EVs and general lack of knowledge. SACE/NCJC suggest the following modifications to the ET Pilot: 1) strengthen the reporting requirements to require quarterly reports and concrete details to enable analysis; 2) establish a stakeholder advisory council to help the Commission oversee aspects of the ET Pilot; 3) allocate a certain number of EV charging stations to disadvantaged communities; 4) increase funding for EVSB and EVTB in lower-income school districts and communities; and 5) develop EV rates to send clear price signals to customers to encourage charging during off-peak NEW_PAGE10 times of day, reducing the costs of charging EVs and reducing the need for new load to meet demand. Finally, SACE/NCJC state that utilities have an important role to play in the emerging EV market. However, the organizations support a competitive market for charging infrastructure and may not support utility ownership and operation of EV charging stations in the future. Greenlots Greenlots supports the ET Pilot and encourages the Commission to approve the ET Pilot as proposed. Greenlots opines that the proposal is an example of needed, prudent, and targeted utility investment that will have a significant impact in accelerating the growth of the EV market and meeting the greenhouse emission goals of EO 80. According to Greenlots, EV adoption faces several impediments in the state, including a lack of fast charging stations and general charging infrastructure, mostly notably public charging stations, and that this leads to a lack of adoption due to what Greenlots called “range anxiety.” Greenlots also lists a number of benefits to be derived from EV deployment, including cost savings, as well as improvements in the environment, general health, energy security, and grid resilience. Greenlots expresses disappointment that the proposal is only pilot scale and not program scale. In addition, Greenlots does not agree that the ET Pilot will hinder the development of a competitive market. Rather, Greenlots contends that the ET Pilot will support the growth of the competitive market by growing the EV market as a whole and, therefore, increasing the demand for additional charging stations in the marketplace. Moreover, Greenlots states that drivers adopt EV technology due to the availability of charging stations, not necessarily the number of different providers and price. EDF EDF expresses support for the ET Pilot and the Companies’ commitment to expanding the EV market as outlined in EO 80. EDF suggests several changes to the programs included in the ET Pilot, as follows: 1) the inclusion of on-bill financing for the purchase of EVSB and EVTB in which financing of those buses would be included on the transit agency or the school district’s bill; 2) the inclusion of bill protection to protect participants from potentially dramatic and unexpected higher demand charges from higher usage that could move the customer into a higher rate class; 3) multiple rate designs, including those that incentivize charging during off-peak periods, and tariffs that are volumetric and offer different structures that include a demand charge; and 4) the establishment of a working group to further study how to remove barriers to EV adoption. Sierra Club Sierra Club expresses general support for the ET Pilot but suggests the following modifications: 1) the Companies should clarify their data collection plan, issue quarterly NEW_PAGE11 reports, and establish a stakeholder advisory process; 2) the Companies should use data from the residential EV charging program to develop EV-specific TOU rates; 3) the Companies should clarify the types of vehicles eligible for the program and whether single entities can receive multiple rebates; 4) the Companies should evaluate options to incentivize off-peak charging for multifamily dwelling units; 5) the Companies should report prices charged to EV drivers at DCFC locations and co-locate DCFC stations with Level 2 stations; and 6) the Companies should develop additional solutions for clean transportation access for low- and moderate-income communities. ChargePoint ChargePoint opposes certain components of the ET Pilot and takes the position that several components will delay the development of a long-term, sustainable competitive market. ChargePoint outlines three models for utility investment in EV infrastructure: 1) ownership by the utility; 2) make-ready; and 3) rebate-based. ChargePoint contends that the focus of utility investment should be to foster and support the existing competitive market, spur EV adoption, and support further development of the competitive market. According to ChargePoint, the Commission should consider the variety of technologies available, the degree to which site hosts can make choices about operating, and the impact of spurring private investment alongside utility customer funds. ChargePoint further maintains that the lack of choice for participating customers among EV charging networks and not allowing participating customers to operate EV charging stations on their own property would adversely impact the existing competitive EV charging market. It agrees that an increase in EV charging infrastructure is needed but opines that such does not require the utility to bypass the existing market and local site hosts by owning and operating the charging stations. ChargePoint asserts that the ET Pilot would allow Duke to position itself to occupy a substantial position in the developing EV charging market, particularly with the DCFC program. ChargePoint advocates for certain amendments to the ET Pilot programs, including using multiple charging networks and equipment vendors to reinforce competition and provide consumer choice and enabling site hosts under all offerings to operate charging stations and determine prices to drivers. Finally, ChargePoint advocates for the Commission to consider alternative utility investment models such as rebates and make-ready programs. Reply Comments Duke Duke focuses its reply comments on the following: 1) the alignment of the ET Pilot with EO 80, 2) the broad support of the pilot from stakeholders and intervenors, and 3) the contention that the proposal is appropriately framed as a pilot so Duke can prepare for increased EV usage. Duke contends that contrary to NCSEA’s and NCCEBA’s assertions, Duke’s efforts to develop a program that will support EV adoption across the NEW_PAGE12 state can benefit potential market entrants by jumpstarting the market. Further, Duke asserts that the Public Staff’s opposition is based on overreliance on traditional ratemaking concepts that ignores the realities of a changing environment and is based on form over substance. In response to criticisms regarding lack of metrics or standards for evaluating the programs, Duke agrees to commit to an evaluation, measurement, and verification (EM&V) analysis of the impact of all segments of the ET Pilot to ensure that the goals of the pilot are met and to engage an expert in how the programs can be evaluated. Duke asserts that its proposal is not simply an effort to seek preapproval of cost recovery for the investments and expenses that it expects to incur but acknowledges that it will seek to recover its prudently incurred costs in a general rate case proceeding. Finally, given the concerns raised over the size and scope of the proposal, Duke offers to remove the multifamily charging stations and the public L2 charging stations from the ET Pilot, resulting in a decrease of approximately $4.1 million from the overall cost, and indicates a willingness to reduce the rebate for the Residential EV Charging Program from $1,000 to $500. SACE/NCJC SACE/NCJC reiterate their support for the ET Pilot with their previously requested modifications. They also disagree with the Public Staff that sufficient information will be publicly available without the ET Pilot and opine that information made available from the experience of other jurisdictions or other publicly available information will not be tailored to the Companies’ customers and service territory. Finally, SACE/NCJC take the position that an independent EM&V process should be required and included in the cost of the ET Pilot. Sierra Club Sierra Club disagrees with the Public Staff’s position that the ET Pilot is unnecessary because publicly available data either exists or will exist and contends that there are state-specific variations in the EV market, housing stock, customer demand, and utility operations. In addition, Sierra Club questions the Public Staff’s position that other states that have initiated pilots will provide enough information for North Carolina’s needs. Indeed, Sierra Club contends that the opposite is true and that the number of states initiating pilots shows the necessity of state-specific data. Finally, Sierra Club reiterates its recommendation for increased reporting of information. ChargePoint ChargePoint agrees with the positions stated by the Public Staff, NCSEA, and NCCEBA. Moreover, ChargePoint notes that SACE/NCJC admit that the ET Pilot would give the Companies a substantial stake in the EV charging market, including owning a majority of the DCFC stations. NEW_PAGE13 Greenlots Greenlots repeats its strong support for the ET Pilot, without delay, contending delaying or not providing drivers with these resources and more charging options would actually compound the fragile market conditions that parties advocating for delay critique. According to Greenlots, the private EV charging marketplace alone cannot adequately meet North Carolina’s transportation electrification and emissions goals, let alone achieve market transformation or maximize future growth and associated benefits. In addition, Greenlots opines that there is a market void stemming largely from the fact that private equity funded development often requires rapid and high returns on investment that can be at odds with capital investments such as public EVSE. Additionally, Greenlots states that private market EVSE development and utility EVSE development is not a zero-sum game, as there can be an additive nature of utility investment. Greenlots encourages Duke and the Commission to consider ways in which the ET Pilot can be enhanced to incorporate and evaluate smart charging and other load management strategies. Hearing On November 21, 2019, the Commission held a hearing to obtain additional information on the public interest and ratemaking implications of Duke’s proposed ET Pilot. For Duke, Lang Reynolds, Director of Electric Transportation, and Laura Bateman, Director of Carolina’s Rates and Regulatory Strategy Group, appeared as a panel to respond to questions from the Commission. Witness Reynolds stated that new technology is coming out every day and that while Duke has done studies in the past, there is a need for more data and for utility investment to support advanced market growth. He also asserted that there are significant differences in data from vehicles on different systems. Witness Bateman asserted that it is appropriate for the utility to install foundational infrastructure because there eventually will be system benefits for utility customers due to more efficient use of the electric system and there are public policy benefits. She likened the pilot to the job retention and economic development riders, which allow cross-subsidization for public benefits. Regarding the relationship between the Volkswagen settlement funds and the EV school bus program, witness Reynolds agreed that if a school district applied to participate in the program and also received settlement funds, that district would get the full extended rebate up to the full cost of the bus. School districts in Cherokee, Wake County, New Hanover County, and a charter school in Chapel Hill have expressed an interest in the program. Witness Reynolds stated in response to criticism regarding the size of the residential rebate that Duke is willing to reduce the rebate to $500. Duke’s plan is to gather data the first year and perform charge management the second and third years of the residential program. However, the program would allow customers to opt out of managed charging. Experimental tariffs could come at the end of the pilot. Witness Reynolds stated that Duke intends to use the charging data to analyze the grid impacts of the programs. NEW_PAGE14 Witness Bateman stated that for the portions of the pilot where Duke will be owning and operating the charging station or EVSE, those costs will include the cost of the upgrades to the grid needed to connect the charging stations. However, costs are not included if there were a situation in the DCFC program where the charger might be located in a remote area and needed very extensive upgrades. Those costs would the capitalized and recovered through depreciation and return in base rates. She estimated the charging stations would have an expected depreciable life of seven years. Regarding why Duke did not choose to enroll existing EV owners and Duke customers in a pilot to gather data, witness Reynolds responded that the pilot was designed not only to gather data but to encourage new EV adoption. Witness Reynolds stated that Duke did not choose on-bill financing because research shows financial incentives drive customer behavior. Witness Bateman stated that the utilities have tried to stay away from on-bill financing because of the existence of lenders and other sources of financing separate and distinct from the utility. Witness Reynolds responded to a question regarding how having school buses spread out over the system will provide useful learning regarding grid resiliency. He stated that Duke needs to understand whether it can provide grid services and, if so, how. Witness Reynolds admitted that Duke has data from across the state regarding its EV customers and that they tend to be clustered in the state’s larger metropolitan areas. He expects that there will be some amount of balance from a first-come, first-served process. If Duke were to be required to set aside rebates for populations that might be difficult otherwise to enroll, Duke would need to expand the program. Regarding whether Duke considered providing the infrastructure piece of the pilot through an unregulated subsidiary rather than the utilities, witness Reynolds stated that with the fast chargers, specifically, it is well-documented that they are not profitable on a stand-alone basis. Witness Bateman added that the usage is not enough to make it economical or profitable for an unregulated competitive provider. She stated that once it becomes profitable, then it would make more sense for the unregulated competitive market to take over. Witness Bateman explained that the pilot provides numerous benefits for all customers, including customers that do not have EVs, such as environmental benefits. She further explained how EV adoption could lower the cost per kWh usage for all DEC and DEP customers. She noted that if the Companies were able to encourage off-peak charging, then there would be additional kilowatt-hours over which to spread fixed costs. This would result in a lower cost per kWh for all customers on the system. When asked about the make-ready concept set forth by some intervenors, witness Reynolds indicated that the Companies already require commercial DCFC stations to pay some contributions in aid of construction and that, practically speaking, the utility is already socializing the majority of the cost on the utility side of the meter. Witness Reynolds indicated that Duke is proposing to own and operate the DCFC stations to ensure that the stations are well maintained and operable for the full life of the asset. With NEW_PAGE15 a make-ready program the utility puts in the make-ready infrastructure and has no recourse afterwards to ensure the station is useful or in good shape. Witness Bateman indicated that if the ET Pilot were limited to a make-ready program, the costs would still range from $41 to $64 million. On questions from the Public Staff, witness Reynolds stated that the costs of the pilot are proportional in size to pilots in other states, such as South Carolina. Additionally, with respect to the Public Staff’s comparison of the costs of Duke’s North Carolina ET Pilot with DEF’s ET program in Florida, witness Reynolds clarified that DEF is a single utility operating in a smaller area in Florida, whereas North Carolina has a larger area with two utilities participating in the ET Pilot. With regard to a question from the Public Staff concerning whether the Company appeared to be asking for preapproval of infrastructure, witness Bateman answered that with a program of this significance, Duke needs direction from the Commission as to whether this foundational level of infrastructure is a proper investment for the utility to make. Witness Bateman compared this proceeding to two other fairly common Commission proceedings. First, witness Bateman compared this request to a certificate of public convenience and necessity, in which the utility builds a new transmission line or a new generation plant. The certificate does not guarantee cost recovery; instead, the certificate demonstrates the Commission’s conclusion that the utility has justified its decision to construct the facility. The prudence and reasonableness of those costs remain subject to review in a general rate case when cost recovery is sought. Next witness Bateman noted that the Companies seek approval of demand-side management and energy efficiency programs prior to implementing them, with the prudency of those costs subject to later review by the Commission in a cost-recovery proceeding. Settlement Among ChargePoint, DEC, and DEP On February 28, 2020, DEC, DEP, and ChargePoint filed a Settlement Agreement. In summary, the settlement provides that customers in the residential program would have unlimited choice of L2 EVSE hardware. With respect to the EVSB program, the settlement provides that EVSE will be installed on the customer’s side of the meter with participating customers having a choice of two or more vendors of EV charging hardware and software. The hardware and software would be prequalified by the Companies to meet functional requirements. For the DCFC program, the settlement provides that the Companies will install, own, operate, and maintain the fast chargers; that there will be a minimum of two fast chargers per location capable of charging a single vehicle at a combined demand of 100 kW or more; and that site hosts would have a choice of at least two vendors of EV charging hardware and software, which shall be prequalified by the Companies to meet functional requirements. In an effort to maintain an open market the settlement provides that no single vendor of EV charging hardware shall have more than 60% of the total installations and that once a percentage share for any single vendor of EV charging hardware exceeds 50% in a DEC or DEP service territory, either DEC or DEP, as applicable, will notify the vendor that it is approaching the threshold and establish a waiting list of customer applications for that vendor to be considered should other NEW_PAGE16 projects with other vendors not come to fruition. In addition, the Settlement Agreement grants site hosts the option of creating alternative pricing mechanisms for drivers, which, for purposes of the ET Pilot, may not exceed the DCFC fee by more than 20%. The Settlement Agreement provides that customers participating in the EVTB program would have a choice of two or more EV charging hardware and software vendors, which shall be prequalified by the Companies to meet functional requirements. Finally, the Settlement Agreement provides procedural mechanisms to enhance Commission review and oversight, and stakeholder engagement. Specifically, the Settlement Agreement calls for DEC and DEP to convene a series of collaborative meetings with stakeholders (the Electric Transportation Collaborative) to present interim ET Pilot progress and results and to gather feedback on the ET Pilot. The Settlement Agreement provides that Duke agrees to leverage the learnings from the ET Pilot as key inputs to the Comprehensive Rate Design Study proposed by Public Staff witness Floyd in Docket E-7, Sub 1214 to evaluate and develop effective rate design offerings for customers with EVs. DISCUSSION AND CONCLUSIONS As demonstrated by the comments in this proceeding there is general agreement that there are many potential benefits to electric ratepayers and society at large in the transition from gasoline- and diesel-powered vehicles to electric transportation. However, there are still many challenges to widespread adoption of EVs, some of which are tied to the lack of charging infrastructure. Focused pilot programs can serve the purpose of expanding this charging infrastructure while allowing the utility to collect data on the impact of this new electric usage on its system. After carefully considering the goals, costs, and benefits of the seven programs proposed by Duke in its ET Pilot and the comments of the other parties in this proceeding, the Commission finds good cause to approve at this time the Public Level 2 Charging program, as proposed, and limited versions of the Multifamily Dwelling Charging, Direct Current Fast Charging, and EV School Bus Charging programs. Because the Commission declines at this time to approve several of the programs covered by the Duke and ChargePoint settlement, the Commission declines to adopt the Settlement Agreement filed by Duke and ChargePoint. EV School Bus Charging As one of its programs aimed at transit electrification Duke proposes to aid the deployment of modern, zero-emission electric school buses by providing funds to offset the incremental costs associated with the battery. In exchange for this funding the customer must allow access to all vehicle charging data and perform testing of charging load management and bidirectional charging capabilities. Duke believes the potential exists for significant cost savings to operators of electric school buses, diesel emissions reductions, and electric system benefits from the adoption of EV school buses in North Carolina. Under NEW_PAGE17 this program Duke will install and own the charging equipment and will retain the right to repurpose the battery as a grid storage asset at the end of its useful vehicle life. Duke argues that the potential use of the batteries as grid assets justifies the investment in this program. Duke proposes to fund on a first-come, first-served basis 55 electric school buses for school districts located in the DEC service territory and 30 electric school buses in the DEP service territory. The Commission is interested in the potential to utilize batteries with bidirectional power flow capabilities in electric school bus fleets as a grid asset. However, the Commission is concerned that the potential for dispersion of the school buses under the program as it is now proposed limits the program’s ability to test that potential at any scale. A more limited pilot, though, may be useful as the first step in a multiphase program. In that first step the utility can gather operational data with respect to charging characteristics, usage patterns, and technology issues relating to bidirectional power flow to and from the battery. The Commission expects that after this “proof of concept” pilot Duke may further propose in a second “proof of value” stage of this pilot program sufficiently scaled and concentrated clusters of electric school buses with bidirectional flow capabilities that will enable the utility to explore their potential as storage resources for local grid support. The Commission, therefore, will approve at this time a reduced program that will provide funding to offset the purchase of 15 electric school buses by school districts in each of the DEC and DEP service territories for the purpose of gathering operational data and exploring the technical capabilities of the vehicle-to-grid technology. The Commission is not persuaded that the program should be rejected on the basis that it may benefit wealthier counties, as was argued by some parties. The program is necessarily limited as a pilot, but funds are available to any school district otherwise planning to replace a school bus. Moreover, as Duke states, it designed the program to complement anticipated funding from the Volkswagen Settlement Trust which is administered by the North Carolina Department of Environmental Quality (DEQ). Duke notes that DEQ intends to allocate a portion of the Settlement Trust funds to replace older diesel school buses with new diesel, propane, or electric school buses. Duke expects that the availability of funds from the Settlement Trust, combined with its proposed infrastructure investment, would encourage DEQ to work with school districts to replace a limited number of legacy high-emitting school buses with zero-emission, electric school buses. Public Level 2 Charging Duke proposes to install, own, and operate public Level 2 charging stations at key public destination locations to encourage EV adoption, as well as to collect utilization and other load characteristics to understand potential grid and utility impacts. As several parties note, access to reliable public charging stations is essential to building EV driver confidence. Despite improvements in the mileage range of newer EVs, the lack of public Level 2 charging stations is an impediment to greater adoption of EVs. Duke proposes to NEW_PAGE18 deploy 100 public Level 2 charging stations within the DEC service territory and 60 stations within the DEP service territory. The Commission recognizes that some parties oppose Duke’s ET Pilot and in particular, the Public Level 2 Charging program. Regarding this program, NCCEBA, for example, objects to the utility’s participation in “a growing competitive market.” Greenlots, however, counters that the ET Pilot will support the growth of the competitive market by growing the EV market as a whole and, therefore, increasing the market demand for additional charging stations. SACE/NCJC believe that utilities have an important role to play in the emerging EV market. As Greenlots states, the private EV charging marketplace alone cannot adequately meet North Carolina’s transportation electrification and emissions goals, let alone achieve market transformation or maximize future growth and associated benefits.  Although Duke offered to remove this program from the ET Pilot, the Commission finds that the Public Level 2 Charging program has the potential to provide a number of benefits supporting the adoption of EVs, removing impediments, and collecting valuable system impact data while providing potential access to a broad cross-section of Duke’s customers. The Commission is persuaded that the Public Level 2 Charging program is in the public interest and should be approved.  Direct Current Fast Charging (DCFC) Duke further proposes to install, own, and operate a network of publicly accessible direct current fast charging stations throughout its utility service territories to facilitate long-distance travel. Duke proposes to install up to 70 DCFC stations across approximately 35 individual locations in its DEC service territory and up to 50 stations across approximately 25 individual locations in its DEP service territory.  Several parties oppose Duke’s proposed DCFC program, either on the basis that it provides no unique learning opportunity or that Duke would garner too large of a percentage of what should be a competitive market. However, other parties argue that the utility has an important role to play in this emerging market. At the hearing, witness Reynolds stated that Duke is proposing to own and operate the DCFC stations to ensure that the stations are well maintained and operable for the full life of the asset. As noted above regarding the Public Level 2 Charging program, access to reliable public charging is essential for the growing EV market, and the lack of fast charging stations to facilitate longer distance travel is an impediment to greater adoption of EVs.  The Commission finds, based upon the record, that a limited version of the DCFC program as proposed by Duke is in the public interest and is approved. The Commission, therefore, will approve a limited version of the DCFC program approximately one-third the size of that proposed and will allow Duke to install, own, and operate up to 24 DCFC stations across approximately 12 individual locations in its DEC service territory and up to 16 stations across approximately 8 individual locations in its DEP service territory.  NEW_PAGE19 Multifamily Dwelling Charging In its third program related to public charging Duke proposes to install, own, and operate Level 2 charging stations to provide access to residential charging for residents of multifamily dwellings. As Duke notes in its application: Limited ability to install charging infrastructure at a residence is commonly cited as a barrier for Multi-Family Dwelling (“MFD”) tenants to purchase an EV. Accordingly, the Companies designed the ET Pilot to provide easy access to residential charging for non-homeowners throughout the Companies’ service territories. Duke proposes to deploy 100 stations in DEC’s service territory and 60 stations in DEP’s service territory.  The Commission is persuaded that as the cost of EVs decreases and more used vehicles become available it will be even more important for multifamily housing tenants to have convenient access to charging stations at their residence. While not all residents of multifamily housing are low or moderate income, many are, and several parties emphasized the need to specifically extend the benefits of the Pilot to low- and moderate-income ratepayers. The Commission finds that a limited version of the program as proposed by Duke is in the public interest. The Commission, therefore, will approve as a pilot a Multifamily Dwelling Charging program half the size of that proposed, with Duke installing up to 50 Level 2 charging stations in the DEC service territory and up to 30 Level 2 charging stations in the DEP service territory. Public Level 2 Charging, Direct Current Fast Charging (DCFC), and Multifamily Dwelling Charging Additional Programs In approving these three components of the ET Pilot the Commission is not sanctioning an open-ended or broad, general participation by Duke in the EV charging infrastructure market. Rather, because the goals of the programs are to test public response to wider availability of public charging infrastructure and to acquire data and information on alternative implementation approaches for further analysis, the Commission supports the programs. Once those goals are met, any further participation by Duke in the market for charging infrastructure will be determined at the appropriate time and after full consideration of all pertinent factors. The Commission further directs Duke to explore and create a second pilot of these three programs in a stakeholder process described below. The Commission expects Duke to explore in the second round of these three pilot programs and any other proposed programs additional ownership and partnership models for EV infrastructure, including utility fully owned and operated stations; make-ready stations with third-party owned NEW_PAGE20 charging equipment; and stations co-owned, co-funded, or co-operated by Duke in partnership with other entities.   Stakeholder Process and Criteria for Future Pilot Programs The Commission is not persuaded that the other programs proposed by Duke are appropriately focused and sized, and therefore declines to approve those programs at this time. These programs, as currently proposed by Duke, have not been designed to sufficiently explore system benefits that would ultimately justify the estimated expenditure of ratepayer funds. Nevertheless, the Commission is receptive to further pilot programs and provides guidance below with respect to the essential characteristics that such pilot programs should embody. The Commission supports the goal of gathering operational data needed to quantify the specific costs and benefits attributable to EV usage and to assign these costs and benefits to the appropriate parties. Further, the Commission supports the involvement of public utilities in helping to attain such goals. However, in order to approve the involvement of Duke and other public utilities in any pilot program, the Commission will require that pilot programs also include consideration of or as an aspect of the pilot, at a minimum, the following attributes: • Proper Scale and Scope: The scale and scope of a pilot program should be set in a manner that allows the utility to test a concept at a smaller scale without incurring substantial capital costs, such that if the pilot program is successful it can then be readily deployed system-wide with more assurance that it will be economically viable. • Rate Design: Suitable pilots should involve experimental rate designs and contain measures to track and measure customer response to such rates. The Commission recognizes that in the pending DEC and DEP general rate cases the utilities have proposed to study the general system-wide implementation of special rate plans for electric vehicles as part of a more comprehensive examination of overall rate design. The Commission does not believe it would prejudice that comprehensive study but would in fact be beneficial to that exercise if the utilities offered to a limited group of customers in a pilot program experimental rates to encourage or support EV use. • Cost-Benefit Analysis: Detailed costs and revenues resulting from pilot programs should be tracked and reported in a way that can be used to develop future cost-benefit analyses. A cost-benefit analysis must be conducted on each program before it can be scaled beyond its pilot program size. Any large-scale implementation of piloted programs must show the ability, when scaled, to yield an overall positive system benefit net of all costs. • Leverage Other Funding: Pilot programs should encourage or require the use of third-party funding (private, federal, state, municipal, grants) wherever it is NEW_PAGE21 available. Programs should also encourage ownership and operation partnerships that provide the greatest benefit to customers. • Make-ready Approach: Duke should leverage familiarity with permitting requirements, the interconnection process, and the design, operations, and maintenance of the distribution system to efficiently identify and develop appropriate preparations for EV infrastructure. • Objectives, Metrics, and Verification: Each pilot program should have clearly defined goals, metrics for evaluating performance, and a verification process. • Reporting and Stakeholder Engagement: Duke must engage stakeholders throughout the term of any pilot and report on the performance of the programs on at least an annual basis. Specifically applying the above criteria to the proposed EV Charging Management programs, the Commission supports incentives where appropriate to collect data or encourage behavior with clear financial benefits to the system. The Commission, however, is not persuaded that the rebate programs as proposed at this time satisfy the criteria set forth herein above. While the Commission acknowledges that the results of the ET Pilot will inform future rate design, Duke presently has sufficient information-gathering tools to test pilot ET rates using data already gathered. For example, when asked at the hearing about the potential for obtaining charging data from the approximately 14,000 EVs currently registered in North Carolina, witness Reynolds acknowledged that existing EV owners are a viable data resource, tr. vol. 1, 31, and therefore could be used for this purpose. Other such resources include data from Duke’s AMI meters, data from Duke’s and its affiliates’ own EV fleets, other affiliates’ EV pilot programs, and the resources from other states identified by the Public Staff.  The Commission notes that Duke agrees in its comments to commit to an evaluation, measurement, and verification (EM&V) analysis of the impact of all segments of the ET Pilot to ensure that the goals of the Pilot are met and to engage an expert in how the programs can be evaluated. Duke also offers in its Settlement Agreement with ChargePoint to convene a series of collaborative meetings with stakeholders to present interim ET Pilot progress and results and to gather feedback on the ET Pilot. Lastly, Duke agrees to use the learnings from the ET Pilot in any efforts to evaluate and develop effective rate design offerings for customers with EVs. With the foregoing in mind, the Commission finds good cause to direct Duke and the Public Staff to convene a collaborative stakeholder process to provide input and feedback on potential future pilot programs and to require that the stakeholder process be organized and conducted as follows: (1) Duke and the Public Staff shall equally share the responsibility for the implementation, organization, and leadership of the collaborative; NEW_PAGE22 (2) All parties to the present dockets shall be invited to engage in full participation in the collaborative; (3) The first meeting of the collaborative shall be held within one month of the date of this Order, and subsequent meetings shall be held, at a minimum, every two months thereafter, with the purpose of developing pilot programs that are consistent with the foregoing requirements; and (4) Any pilot programs developed by Duke through this collaborative process shall be filed with the Commission for review and approval not later than six months following the date of this Order. IT IS, THEREFORE, ORDERED as follows: 1. That the Public Level 2 Charging program, as proposed, and a limited version of the Duke proposed Multifamily Dwelling Charging, Direct Current Fast Charging, and EV School Bus Charging programs, as described herein, are approved; 2. That the remaining programs proposed as part of the ET Pilot and the Companies’ Settlement Agreement with ChargePoint are not approved; and 3. That Duke and the Public Staff shall organize and facilitate a collaborative stakeholder process in compliance with the guidelines provided in this Order and file any stakeholder developed pilot programs within six months of this Order. ISSUED BY ORDER OF THE COMMISSION. This the 24th day of November, 2020. NORTH CAROLINA UTILITIES COMMISSION  Kimberley A. Campbell, Chief Clerk NEW_PAGE'"
            ]
          },
          "metadata": {
            "tags": []
          },
          "execution_count": 13
        }
      ]
    },
    {
      "cell_type": "code",
      "metadata": {
        "id": "PJSBd3p2XCRi"
      },
      "source": [
        "import spacy\n",
        "from spacy import displacy\n",
        "from collections import Counter\n",
        "import en_core_web_sm\n",
        "nlp = en_core_web_sm.load()"
      ],
      "execution_count": 14,
      "outputs": []
    },
    {
      "cell_type": "code",
      "metadata": {
        "colab": {
          "base_uri": "https://localhost:8080/"
        },
        "id": "cbh4FY2cXMi0",
        "outputId": "500db903-c1b9-44aa-eeb3-aab132b727b5"
      },
      "source": [
        "article = nlp(text1)\n",
        "##items = [article.ents]\n",
        "items = [x for x in article.ents]\n",
        "items = filter(lambda x: x.label_ == 'DATE', items)\n",
        "\n",
        "items1 = []\n",
        "##Counter(labels)\n",
        "Counter(items).most_common(10)\n",
        "# for x in article.ents:\n",
        "#   if x.label_ == 'ORG':\n",
        "#     items1.append(x)\n",
        "  \n",
        "##Counter(items1).most_common(1)"
      ],
      "execution_count": 15,
      "outputs": [
        {
          "output_type": "execute_result",
          "data": {
            "text/plain": [
              "[(September 25, 2020, 1),\n",
              " (28-106.201, 1),\n",
              " (four years, 1),\n",
              " (the coming years, 1),\n",
              " (the same year, 1),\n",
              " (2011, 1),\n",
              " (2017, 1),\n",
              " (June of 2020, 1),\n",
              " (120V, 1),\n",
              " (approximately 12 months, 1)]"
            ]
          },
          "metadata": {
            "tags": []
          },
          "execution_count": 15
        }
      ]
    },
    {
      "cell_type": "code",
      "metadata": {
        "id": "I6g6yoP-iDN9"
      },
      "source": [
        "from spacy.matcher import Matcher\n",
        "\n",
        "def get_company_name(pdf1):\n",
        "  i = get_text_pdf_full(pdf1)\n",
        "  i = i.replace('\\n','')\n",
        "  doc = nlp(i)\n",
        "\n",
        "  list1 = []\n",
        "\n",
        "  output = []\n",
        "  output1 = []\n",
        "  output2 = []\n",
        "\n",
        "  pattern = [{\"LOWER\": \"petition\"}, {\"LOWER\": \"of\"}, {\"ENT_TYPE\": \"ORG\"}, {\"ENT_TYPE\": \"ORG\"}, {\"ENT_TYPE\": \"ORG\"}]\n",
        "  ##pattern1 = [{\"LOWER\": \"by\"}, {\"ENT_TYPE\": \"ORG\"}, {\"ENT_TYPE\": \"ORG\"}]\n",
        "  pattern3 = [{\"ENT_TYPE\": \"ORG\"}, {\"ENT_TYPE\": \"ORG\"}, {\"ENT_TYPE\": \"ORG\"}, {\"IS_PUNCT\": True}, {\"LOWER\": \"llc\"}]\n",
        "  pattern2 = [{\"LOWER\": \"re\"}, {\"IS_PUNCT\": True}, {\"ENT_TYPE\": \"ORG\"}, {\"ENT_TYPE\": \"ORG\"}]\n",
        "\n",
        "  matcher = Matcher(nlp.vocab)\n",
        "  matcher.add('org_only', None, pattern)\n",
        "  ##matcher.add('org_only1', None, pattern1)\n",
        "  matcher.add('org_only2', None, pattern2)\n",
        "  matcher.add('org_only3', None, pattern3)\n",
        "  matches = matcher(doc)\n",
        "  for match_id, start, end in matches:\n",
        "      list1.append(doc[start:end])\n",
        "  for item in list1:\n",
        "    output.append(item.text.lower())\n",
        "\n",
        "  output = set(output)\n",
        "  output = list(output)\n",
        "  for x in output:\n",
        "    output1.append(x.replace('re: ', '').replace('petition of ', '').replace('by', ''))\n",
        "  for x in output1:\n",
        "    output2.append(x.replace(\"new_page\", \"\"))\n",
        "  if len(output2) > 1:\n",
        "    map = []\n",
        "    for x in output2:\n",
        "      num = i.lower().count(x)\n",
        "      map.append((x, num))\n",
        "    lst = len(map) \n",
        "    for i in range(0, lst):          \n",
        "      for j in range(0, lst-i-1): \n",
        "          if (map[j][1] > map[j + 1][1]): \n",
        "              temp = map[j] \n",
        "              map[j]= map[j + 1] \n",
        "              map[j + 1]= temp \n",
        "    return map[lst - 1][0]\n",
        "  else:\n",
        "    return output2[0]"
      ],
      "execution_count": 16,
      "outputs": []
    },
    {
      "cell_type": "code",
      "metadata": {
        "id": "0tjni8wcoMg9"
      },
      "source": [
        "import random\n",
        "from spacy.util import compounding\n",
        "from spacy.util import minibatch\n",
        "\n",
        "def get_date_full_code(o2, sentence):\n",
        "  map = []\n",
        "  for x in o2:\n",
        "    num = sentence.lower().count(x)\n",
        "    map.append((x, num))\n",
        "\n",
        "  lst = len(map) \n",
        "  for i in range(0, lst):          \n",
        "    for j in range(0, lst-i-1): \n",
        "        if (map[j][1] > map[j + 1][1]): \n",
        "            temp = map[j] \n",
        "            map[j]= map[j + 1] \n",
        "            map[j + 1]= temp \n",
        "  return map[lst - 1][0]\n",
        "\n",
        "def get_month(sentence):\n",
        "\n",
        "  map = []\n",
        "  num_sep = sentence.lower().split().count(\"september\")\n",
        "  map.append((\"September\", num_sep))\n",
        "  num_oct = sentence.lower().split().count(\"october\")\n",
        "  map.append((\"October\", num_oct))\n",
        "  num_nov = sentence.lower().split().count(\"november\")\n",
        "  map.append((\"November\", num_nov))\n",
        "  num_dec = sentence.lower().split().count(\"december\")\n",
        "  map.append((\"December\", num_dec))\n",
        "  num_jan = sentence.lower().split().count(\"january\")\n",
        "  map.append((\"January\", num_jan))\n",
        "  num_feb = sentence.lower().split().count(\"february\")\n",
        "  map.append((\"February\", num_feb))\n",
        "  num_mar = sentence.lower().split().count(\"march\")\n",
        "  map.append((\"March\", num_mar))\n",
        "  num_apr = sentence.lower().split().count(\"april\")\n",
        "  map.append((\"April\", num_apr))\n",
        "  num_may = sentence.lower().split().count(\"may, \")\n",
        "  map.append((\"May\", num_may))\n",
        "  num_jun = sentence.lower().split().count(\"june\")\n",
        "  map.append((\"June\", num_jun))\n",
        "  num_jul = sentence.lower().split().count(\"july\")\n",
        "  map.append((\"July\", num_jul))\n",
        "  num_aug = sentence.lower().split().count(\"august\")\n",
        "  map.append((\"August\", num_aug))\n",
        "\n",
        "  lst = len(map) \n",
        "  for i in range(0, lst):          \n",
        "    for j in range(0, lst-i-1): \n",
        "        if (map[j][1] > map[j + 1][1]): \n",
        "            temp = map[j] \n",
        "            map[j]= map[j + 1] \n",
        "            map[j + 1]= temp \n",
        "  return map[lst - 1][0]\n",
        "\n",
        "def get_date(pdf1):\n",
        "\n",
        "  i = get_text_pdf_full(pdf1)\n",
        "  i = i.replace('\\n','')\n",
        "  doc = nlp(i)\n",
        "\n",
        "  list1 = []\n",
        "\n",
        "  output = []\n",
        "\n",
        "  output2 = []\n",
        "\n",
        "  pattern = [{\"IS_ALPHA\": True}, {\"IS_DIGIT\": True}, {\"IS_PUNCT\": True}, {\"IS_DIGIT\": True}]\n",
        "\n",
        "  matcher = Matcher(nlp.vocab)\n",
        "\n",
        "  matcher.add('date_only', [pattern])\n",
        "  matches = matcher(doc)\n",
        "  for match_id, start, end in matches:\n",
        "      list1.append(doc[start:end])\n",
        "  for item in list1:\n",
        "    output.append(item.text.lower())\n",
        "\n",
        "  output = set(output)\n",
        "  output = list(output)\n",
        "  month = get_month(i).lower()\n",
        "  for x in output:\n",
        "    if x.lower().startswith(month):\n",
        "      output2.append(x)\n",
        "  if len(output2) > 1:\n",
        "    output2 = [get_date_full_code(output2, i)]\n",
        "  # elmt = output.pop().replace('filed: ', '')\n",
        "\n",
        "\n",
        "  return str(output2[0])"
      ],
      "execution_count": 17,
      "outputs": []
    },
    {
      "cell_type": "code",
      "metadata": {
        "colab": {
          "base_uri": "https://localhost:8080/",
          "height": 35
        },
        "id": "NbPS8VRqnhrU",
        "outputId": "e5189e04-279a-48c3-bc1b-8d3dcea470ea"
      },
      "source": [
        "get_company_name('duke_florida.pdf')"
      ],
      "execution_count": 18,
      "outputs": [
        {
          "output_type": "execute_result",
          "data": {
            "application/vnd.google.colaboratory.intrinsic+json": {
              "type": "string"
            },
            "text/plain": [
              "'duke energy'"
            ]
          },
          "metadata": {
            "tags": []
          },
          "execution_count": 18
        }
      ]
    },
    {
      "cell_type": "code",
      "metadata": {
        "colab": {
          "base_uri": "https://localhost:8080/",
          "height": 53
        },
        "id": "DeVLAn8RpB4o",
        "outputId": "85eb4c01-1637-409a-fe3c-5df8cd2b5640"
      },
      "source": [
        "get_date('samp_elec.pdf')"
      ],
      "execution_count": 19,
      "outputs": [
        {
          "output_type": "stream",
          "text": [
            "PdfReadWarning: Xref table not zero-indexed. ID numbers for objects will be corrected. [pdf.py:1801]\n"
          ],
          "name": "stderr"
        },
        {
          "output_type": "execute_result",
          "data": {
            "application/vnd.google.colaboratory.intrinsic+json": {
              "type": "string"
            },
            "text/plain": [
              "'september 25, 2020'"
            ]
          },
          "metadata": {
            "tags": []
          },
          "execution_count": 19
        }
      ]
    },
    {
      "cell_type": "code",
      "metadata": {
        "colab": {
          "base_uri": "https://localhost:8080/",
          "height": 191
        },
        "id": "47e1FhxBotwu",
        "outputId": "2be29fe3-aed0-4080-8e84-8ddc8a13812c"
      },
      "source": [
        "import gensim\n",
        "from gensim.summarization import summarize\n",
        "\n",
        "summarize(text1, 0.1)"
      ],
      "execution_count": 20,
      "outputs": [
        {
          "output_type": "execute_result",
          "data": {
            "application/vnd.google.colaboratory.intrinsic+json": {
              "type": "string"
            },
            "text/plain": [
              "'Under this Pilot, Tampa Electric will purchase, install, own, and maintain approximately 200 PEV charging ports within the company’s service territory.\\nThe PEV charging ports will be deployed at Tampa Electric customer locations in five different market segments: (1) workplaces; (2) public/retail; (3) multi-unit dwellings; (4) income qualified; and (5) government.\\nTampa Electric will pay up to $5,000 per charge port towards the cost of installation of the charging equipment for workplace, public/retail and multi-dwelling segments, and the full cost of installation for income qualified and government locations.\\nThe objectives of the Pilot are to provide increased customer confidence in the availability of public charging locations, thereby supporting PEV adoption, and to provide Tampa Electric with valuable experience with public PEV charging infrastructure development and PEV charging load profile data.\\nApproval of Tampa Electric’s proposed Pilot will enable the company to manage the program in a manner that will avoid certain challenges that might otherwise occur, such as a potential increase in peak demand, grid overloading, costs of fast charging and other obstacles.\\nData collected during the Pilot period will provide Tampa Electric with valuable information regarding customer charging behavior, including when and where charging is taking place, and PEV load patterns in a variety of charging locations.\\nThis data will directly support long-term grid planning and reliability by allowing Tampa Electric to model the impacts and benefits of increased PEV adoption, including opportunities for managing peak demand through load-shifting.\\nIn the Bill, the legislature found that “Ensuring the prompt installation of adequate, reliable charging stations is in the public interest.” The Bill directs the Commission to study and evaluate several topics, including “comparing the types of electric vehicle charging stations available,” “strategies to develop this supply of charging stations,” and “the type of regulatory structure necessary for the delivery of electricity to electric vehicles and charging station infrastructure, including competitive neutral policies and the NEW_PAGE  6  participation of public utilities in the marketplace.”  Tampa Electric’s proposed Pilot will collect data that the Commission can utilize in making these evaluations.\\nTampa Electric plans to engage a turn-key vendor for installation of the charging ports, provision of networking, operation, maintenance, and 24/7 customer support.\\nThe charging ports will be located in five different market segments: (1) workplaces; (2) public/retail; (3) multi-unit dwellings; (4) income qualified; and (5) government.\\nTampa Electric will contribute up to $5,000 towards installation costs for each charging port in the workplace, public/retail, and multi-unit dwelling segments.\\nExhibit A to this petition is a more detailed description of the elements of the proposed Pilot including: (1) the type and number of charging ports proposed; (2) the market segments that Tampa Electric will target for recruitment of Site Hosts; (3) the rights and responsibilities of the Site Hosts; (4) service and pricing provided to charging customers of the Site Hosts; (5) implementation and electric service components; (6) data collection and reporting regarding the program and charging activity; and (7) options at the end of the Pilot period.\\nTampa Electric will track installation costs, timing and issues associated with development, operation and maintenance of charging equipment, charging volumes at each NEW_PAGE  8  charging site as well as demand timing and impacts.\\nTampa Electric will work with the Site Host to thoroughly evaluate the most cost-effective way to provide service to the PEV charging equipment.\\nTampa Electric Company (“Tampa Electric” or the “company”) will purchase, install, own, and maintain a limited number of Plug-in Electric Vehicle (“PEV”) Charging Ports (“Ports”) within the Tampa Electric service area to provide increased consumer confidence for PEV adoption while providing the company with valuable experience with public PEV charging infrastructure development and PEV charging load profile data to support grid planning and reliability.\\nTo encourage active customer participation for the success of the Pilot, Tampa Electric is proposing a Pilot structure where the company’s maximum investment per-Port is $5,000 for workplace, public/retail and multi-unit dwelling market segments.\\nFor income qualified and government market segments, Tampa Electric is proposing to cover the full installation and charging Port costs and will seek the most cost-effective host sites that best meet the Pilot objectives.\\nDevelop Tampa Electric’s internal competencies to provide long-term support for the local PEV market including processes for host site selection, permitting and construction, as well as operation and maintenance of charging infrastructure.\\nTampa Electric will primarily install Level 2 (208 or 240 volt) Electric Vehicle Supply Equipment (“EVSE”), however the company will also install a limited number of NEW_PAGE  Direct Current Fast Chargers (“DCFC”), as higher-powered charging may better serve PEV drivers in certain locations.\\nD. Tampa Electric will review and score each application by market segment to determine if participation requirements and Pilot objectives can be achieved at the proposed site.\\nH. To limit the variability of data collection during the Pilot period, and to help create a consistent experience across all Pilot participants, site hosts will have the option of providing PEV drivers with one of the following price structures for their charging: a.\\nFor the duration of the Pilot, Tampa Electric will collect comprehensive data for each market segment, including but not limited to number of charging sessions, costs to PEV drivers, utilization of each technology type, installation costs, and load profiles.\\nB. After reaching full implementation and on an annual basis until the completion of the Pilot period, Tampa Electric will report to the Commission on the data points collected and including narratives related to lessons learned during the deployment phase, ongoing operation and maintenance, and include site host or PEV driver feedback.\\nAll ongoing costs associated with the PEV Ports, including maintenance and network charges will become the responsibility of the site host.\\nDuring such a process, Tampa Electric will continue working with Site Hosts already participating in the Pilot to ensure continuity of PEV charging services to drivers.'"
            ]
          },
          "metadata": {
            "tags": []
          },
          "execution_count": 20
        }
      ]
    },
    {
      "cell_type": "code",
      "metadata": {
        "id": "TmkHjqBzdqI3"
      },
      "source": [
        "def get_email_addresses(pdf1):\n",
        "    string = get_text_pdf_full(pdf1)\n",
        "    string = string.replace('\\n','')\n",
        "    r = re.compile(r'[\\w\\.-]+@[\\w\\.-]+')\n",
        "    return r.findall(string)\n",
        "    \n",
        "def get_phone_numbers(pdf1):\n",
        "    string = get_text_pdf_full(pdf1)\n",
        "    string = string.replace('\\n','')\n",
        "    r = re.compile(r'(\\d{3}[-\\.\\s]??\\d{3}[-\\.\\s]??\\d{4}|\\(\\d{3}\\)\\s*\\d{3}[-\\.\\s]??\\d{4}|\\d{3}[-\\.\\s]??\\d{4})')\n",
        "    phone_numbers = r.findall(string)\n",
        "    return [re.sub(r'\\D', '', num) for num in phone_numbers]"
      ],
      "execution_count": 21,
      "outputs": []
    },
    {
      "cell_type": "code",
      "metadata": {
        "colab": {
          "base_uri": "https://localhost:8080/"
        },
        "id": "5jQZw3kAdrm6",
        "outputId": "036dcce6-f919-43ba-9cb9-41b80d8dbdbb"
      },
      "source": [
        "get_email_addresses('samp_elec.pdf')"
      ],
      "execution_count": 22,
      "outputs": [
        {
          "output_type": "stream",
          "text": [
            "PdfReadWarning: Xref table not zero-indexed. ID numbers for objects will be corrected. [pdf.py:1801]\n"
          ],
          "name": "stderr"
        },
        {
          "output_type": "execute_result",
          "data": {
            "text/plain": [
              "['jbeasley@ausley.com',\n",
              " 'regdept@tecoenergy.com',\n",
              " 'jwahlen@ausley.com',\n",
              " 'mmeans@ausley.com',\n",
              " 'jbeasley@ausley.com',\n",
              " 'jwahlen@ausley.com',\n",
              " 'mmeans@ausley.com']"
            ]
          },
          "metadata": {
            "tags": []
          },
          "execution_count": 22
        }
      ]
    },
    {
      "cell_type": "code",
      "metadata": {
        "colab": {
          "base_uri": "https://localhost:8080/"
        },
        "id": "5X_9K2VZrEZi",
        "outputId": "dad32b40-9e9b-4d11-aae6-142709e303ce"
      },
      "source": [
        "from nltk.corpus import stopwords\n",
        "from nltk.stem import PorterStemmer\n",
        "from nltk.tokenize import word_tokenize, sent_tokenize\n",
        "nltk.download('punkt')\n",
        "nltk.download('stopwords')\n",
        "\n",
        "# def _create_frequency_table(text_string) -> dict:\n",
        "#     \"\"\"\n",
        "#     we create a dictionary for the word frequency table.\n",
        "#     For this, we should only use the words that are not part of the stopWords array.\n",
        "#     Removing stop words and making frequency table\n",
        "#     Stemmer - an algorithm to bring words to its root word.\n",
        "#     :rtype: dict\n",
        "#     \"\"\"\n",
        "#     stopWords = set(stopwords.words(\"english\"))\n",
        "#     words = word_tokenize(text_string)\n",
        "#     ps = PorterStemmer()\n",
        "\n",
        "#     freqTable = dict()\n",
        "#     for word in words:\n",
        "#         word = ps.stem(word)\n",
        "#         if word in stopWords:\n",
        "#             continue\n",
        "#         if word in freqTable:\n",
        "#             freqTable[word] += 1\n",
        "#         else:\n",
        "#             freqTable[word] = 1\n",
        "\n",
        "#     return freqTable\n",
        "\n",
        "\n",
        "# def _score_sentences(sentences, freqTable) -> dict:\n",
        "#     \"\"\"\n",
        "#     score a sentence by its words\n",
        "#     Basic algorithm: adding the frequency of every non-stop word in a sentence divided by total no of words in a sentence.\n",
        "#     :rtype: dict\n",
        "#     \"\"\"\n",
        "\n",
        "#     sentenceValue = dict()\n",
        "\n",
        "#     for sentence in sentences:\n",
        "#         word_count_in_sentence = (len(word_tokenize(sentence)))\n",
        "#         word_count_in_sentence_except_stop_words = 0\n",
        "#         for wordValue in freqTable:\n",
        "#             if wordValue in sentence.lower():\n",
        "#                 word_count_in_sentence_except_stop_words += 1\n",
        "#                 if sentence[:10] in sentenceValue:\n",
        "#                     sentenceValue[sentence[:10]] += freqTable[wordValue]\n",
        "#                 else:\n",
        "#                     sentenceValue[sentence[:10]] = freqTable[wordValue]\n",
        "\n",
        "#         if sentence[:10] in sentenceValue:\n",
        "#             sentenceValue[sentence[:10]] = sentenceValue[sentence[:10]] / word_count_in_sentence_except_stop_words\n",
        "\n",
        "#         '''\n",
        "#         Notice that a potential issue with our score algorithm is that long sentences will have an advantage over short sentences. \n",
        "#         To solve this, we're dividing every sentence score by the number of words in the sentence.\n",
        "        \n",
        "#         Note that here sentence[:10] is the first 10 character of any sentence, this is to save memory while saving keys of\n",
        "#         the dictionary.\n",
        "#         '''\n",
        "\n",
        "#     return sentenceValue\n",
        "\n",
        "\n",
        "# def _find_average_score(sentenceValue) -> int:\n",
        "#     \"\"\"\n",
        "#     Find the average score from the sentence value dictionary\n",
        "#     :rtype: int\n",
        "#     \"\"\"\n",
        "#     sumValues = 0\n",
        "#     for entry in sentenceValue:\n",
        "#         sumValues += sentenceValue[entry]\n",
        "\n",
        "#     # Average value of a sentence from original text\n",
        "#     average = (sumValues / len(sentenceValue))\n",
        "\n",
        "#     return average\n",
        "\n",
        "\n",
        "# def _generate_summary(sentences, sentenceValue, threshold):\n",
        "#     sentence_count = 0\n",
        "#     summary = ''\n",
        "\n",
        "#     for sentence in sentences:\n",
        "#         if sentence[:10] in sentenceValue and sentenceValue[sentence[:10]] >= (threshold):\n",
        "#             summary += \" \" + sentence\n",
        "#             sentence_count += 1\n",
        "\n",
        "#     return summary\n",
        "\n",
        "\n",
        "# def run_summarization(text):\n",
        "#     # 1 Create the word frequency table\n",
        "#     freq_table = _create_frequency_table(text)\n",
        "\n",
        "#     '''\n",
        "#     We already have a sentence tokenizer, so we just need \n",
        "#     to run the sent_tokenize() method to create the array of sentences.\n",
        "#     '''\n",
        "\n",
        "#     # 2 Tokenize the sentences\n",
        "#     sentences = sent_tokenize(text)\n",
        "\n",
        "#     # 3 Important Algorithm: score the sentences\n",
        "#     sentence_scores = _score_sentences(sentences, freq_table)\n",
        "\n",
        "#     # 4 Find the threshold\n",
        "#     threshold = _find_average_score(sentence_scores)\n",
        "\n",
        "#     # 5 Important Algorithm: Generate the summary\n",
        "#     summary = _generate_summary(sentences, sentence_scores, 1.3 * threshold)\n",
        "\n",
        "#     return summary\n",
        "\n",
        "# run_summarization(text1)"
      ],
      "execution_count": 23,
      "outputs": [
        {
          "output_type": "stream",
          "text": [
            "[nltk_data] Downloading package punkt to /root/nltk_data...\n",
            "[nltk_data]   Unzipping tokenizers/punkt.zip.\n",
            "[nltk_data] Downloading package stopwords to /root/nltk_data...\n",
            "[nltk_data]   Unzipping corpora/stopwords.zip.\n"
          ],
          "name": "stdout"
        },
        {
          "output_type": "execute_result",
          "data": {
            "text/plain": [
              "True"
            ]
          },
          "metadata": {
            "tags": []
          },
          "execution_count": 23
        }
      ]
    },
    {
      "cell_type": "code",
      "metadata": {
        "colab": {
          "base_uri": "https://localhost:8080/"
        },
        "id": "0E-suqSjzPk3",
        "outputId": "665d593b-9cd6-4b64-f0eb-0857b6d98158"
      },
      "source": [
        "import logging\n",
        "import textwrap\n",
        "from gensim.summarization.pagerank_weighted import pagerank_weighted as _pagerank\n",
        "from gensim.summarization.textcleaner import clean_text_by_sentences as _clean_text_by_sentences\n",
        "from gensim.summarization.commons import build_graph as _build_graph\n",
        "from gensim.summarization.commons import remove_unreachable_nodes as _remove_unreachable_nodes\n",
        "from gensim.summarization.bm25 import get_bm25_weights as _bm25_weights\n",
        "from gensim.corpora import Dictionary\n",
        "from math import log10 as _log10\n",
        "from six.moves import xrange\n",
        "\n",
        "\n",
        "INPUT_MIN_LENGTH = 10\n",
        "\n",
        "WEIGHT_THRESHOLD = 1.e-3\n",
        "\n",
        "logger = logging.getLogger(__name__)\n",
        "\n",
        "\n",
        "def _set_graph_edge_weights(graph):\n",
        "    documents = graph.nodes()\n",
        "    weights = _bm25_weights(documents)\n",
        "\n",
        "    for i in xrange(len(documents)):\n",
        "        for j in xrange(len(documents)):\n",
        "            if i == j or weights[i][j] < WEIGHT_THRESHOLD:\n",
        "                continue\n",
        "\n",
        "            sentence_1 = documents[i]\n",
        "            sentence_2 = documents[j]\n",
        "\n",
        "            edge_1 = (sentence_1, sentence_2)\n",
        "            edge_2 = (sentence_2, sentence_1)\n",
        "\n",
        "            if not graph.has_edge(edge_1):\n",
        "                graph.add_edge(edge_1, weights[i][j])\n",
        "            if not graph.has_edge(edge_2):\n",
        "                graph.add_edge(edge_2, weights[j][i])\n",
        "\n",
        "    if all(graph.edge_weight(edge) == 0 for edge in graph.edges()):\n",
        "        _create_valid_graph(graph)\n",
        "\n",
        "\n",
        "def _create_valid_graph(graph):\n",
        "    nodes = graph.nodes()\n",
        "\n",
        "    for i in xrange(len(nodes)):\n",
        "        for j in xrange(len(nodes)):\n",
        "            if i == j:\n",
        "                continue\n",
        "\n",
        "            edge = (nodes[i], nodes[j])\n",
        "\n",
        "            if graph.has_edge(edge):\n",
        "                graph.del_edge(edge)\n",
        "\n",
        "            graph.add_edge(edge, 1)\n",
        "\n",
        "\n",
        "def _get_doc_length(doc):\n",
        "    return sum([item[1] for item in doc])\n",
        "\n",
        "\n",
        "def _get_similarity(doc1, doc2, vec1, vec2):\n",
        "    numerator = vec1.dot(vec2.transpose()).toarray()[0][0]\n",
        "    length_1 = _get_doc_length(doc1)\n",
        "    length_2 = _get_doc_length(doc2)\n",
        "\n",
        "    denominator = _log10(length_1) + _log10(length_2) if length_1 > 0 and length_2 > 0 else 0\n",
        "\n",
        "    return numerator / denominator if denominator != 0 else 0\n",
        "\n",
        "\n",
        "def _build_corpus(sentences):\n",
        "    split_tokens = [sentence.token.split() for sentence in sentences]\n",
        "    dictionary = Dictionary(split_tokens)\n",
        "    return [dictionary.doc2bow(token) for token in split_tokens]\n",
        "\n",
        "\n",
        "def _get_important_sentences(sentences, corpus, important_docs):\n",
        "    hashable_corpus = _build_hasheable_corpus(corpus)\n",
        "    sentences_by_corpus = dict(zip(hashable_corpus, sentences))\n",
        "    return [sentences_by_corpus[tuple(important_doc)] for important_doc in important_docs]\n",
        "\n",
        "\n",
        "def _get_sentences_with_word_count(sentences, word_count):\n",
        "    length = 0\n",
        "    selected_sentences = []\n",
        "\n",
        "    for sentence in sentences:\n",
        "        words_in_sentence = len(sentence.text.split())\n",
        "\n",
        "        if abs(word_count - length - words_in_sentence) > abs(word_count - length):\n",
        "            return selected_sentences\n",
        "\n",
        "        selected_sentences.append(sentence)\n",
        "        length += words_in_sentence\n",
        "\n",
        "    return selected_sentences\n",
        "\n",
        "\n",
        "def _extract_important_sentences(sentences, corpus, important_docs, word_count):\n",
        "    important_sentences = _get_important_sentences(sentences, corpus, important_docs)\n",
        "\n",
        "    return important_sentences if word_count is None else _get_sentences_with_word_count(important_sentences, word_count)\n",
        "\n",
        "\n",
        "def _format_results(extracted_sentences, split):\n",
        "    if split:\n",
        "        return [sentence.text for sentence in extracted_sentences]\n",
        "    return \"\\n\".join([sentence.text for sentence in extracted_sentences])\n",
        "\n",
        "\n",
        "def _build_hasheable_corpus(corpus):\n",
        "    return [tuple(doc) for doc in corpus]\n",
        "\n",
        "\n",
        "def summarize_corpus(corpus, ratio=0.2):\n",
        "\n",
        "    hashable_corpus = _build_hasheable_corpus(corpus)\n",
        "\n",
        "    if len(corpus) == 0:\n",
        "        logger.warning(\"Input corpus is empty.\")\n",
        "        return\n",
        "\n",
        "    if len(corpus) < INPUT_MIN_LENGTH:\n",
        "        logger.warning(\"Input corpus is expected to have at least \" + str(INPUT_MIN_LENGTH) + \" documents.\")\n",
        "\n",
        "    graph = _build_graph(hashable_corpus)\n",
        "    _set_graph_edge_weights(graph)\n",
        "    _remove_unreachable_nodes(graph)\n",
        "\n",
        "    pagerank_scores = _pagerank(graph)\n",
        "\n",
        "    hashable_corpus.sort(key=lambda doc: pagerank_scores.get(doc, 0), reverse=True)\n",
        "\n",
        "    return [list(doc) for doc in hashable_corpus[:int(len(corpus) * ratio)]]\n",
        "\n",
        "\n",
        "\n",
        "def summarize(pdf1, ratio=0.1, word_count=None, split=False):\n",
        "\n",
        "    output = \"\"\n",
        "\n",
        "    text = get_text_pdf_full(pdf1)\n",
        "    text = text.replace('\\n','')\n",
        "    ##txt_label = sent_pg_labeler(text)\n",
        "\n",
        "    sentences = _clean_text_by_sentences(text)\n",
        "\n",
        "    #input has to be at least MIN sentences\n",
        "\n",
        "    corpus = _build_corpus(sentences)\n",
        "\n",
        "    most_important_docs = summarize_corpus(corpus, ratio=ratio if word_count is None else 1)\n",
        "\n",
        "    extracted_sentences = _extract_important_sentences(sentences, corpus, most_important_docs, word_count)\n",
        "\n",
        "    extracted_sentences.sort(key=lambda s: s.index)\n",
        "\n",
        "    str_temp = _format_results(extracted_sentences, split)\n",
        "\n",
        "    temp_arr = str_temp.split('\\n')\n",
        "    for sent in temp_arr:\n",
        "      pg = 1\n",
        "      two_split_doc = text.split(sent)\n",
        "      pg += two_split_doc[0].count(\"NEW_PAGE\")\n",
        "      output += (sent + ' (pg. ' + str(pg) + ')')\n",
        "      output += '\\n'\n",
        "\n",
        "    output = output.replace('NEW_PAGE', '')\n",
        "    lines = output.split('\\n')\n",
        "    regex = re.compile(r'.{1,80}(?:\\s+|$)')\n",
        "    output1 = '\\n\\n'.join(s.rstrip() for line in lines for s in regex.findall(line))\n",
        "    text_file = open(\"pdf_summary.txt\", \"w+\")\n",
        "    n = text_file.write(output1)\n",
        "    text_file.close()\n",
        "type(summarize('samp_elec.pdf', 0.1))"
      ],
      "execution_count": 24,
      "outputs": [
        {
          "output_type": "stream",
          "text": [
            "PdfReadWarning: Xref table not zero-indexed. ID numbers for objects will be corrected. [pdf.py:1801]\n"
          ],
          "name": "stderr"
        },
        {
          "output_type": "execute_result",
          "data": {
            "text/plain": [
              "NoneType"
            ]
          },
          "metadata": {
            "tags": []
          },
          "execution_count": 24
        }
      ]
    },
    {
      "cell_type": "code",
      "metadata": {
        "id": "RbLs3_WKr7y-"
      },
      "source": [
        "def doc_scorer(pdf1, score_words):\n",
        "  score = 0\n",
        "  doc = get_text_pdf_full(pdf1)\n",
        "  doc = doc.replace('\\n','')\n",
        "  # score_words = [\"electric vehicle\", \"EV\", \"electric vehicle supply equipment\", \"EVSE\",\n",
        "  #                \"zero emission vehicle\", \"ZEV\", \"plug-in electric vehicle\", \"PEV\", \"own and operate\",\n",
        "  #                \"cost recovery\", \"residential\", \"transit\", \"fleet\", \"school bus\", \"multi_family\",\n",
        "  #                \"workplace\", \"public L2\", \"fast chargers\", \"DCFC\", \"charging stations\", \"EV chargers\",\n",
        "  #                \"rebate\", \"third parties\", \"vendors\", \"EV software\", \"pilot program\", \"highway\", \"travel corridors\"]\n",
        "  for word in score_words:\n",
        "    score += doc.count(word)\n",
        "  std_score = score / len(score_words)\n",
        "  return std_score"
      ],
      "execution_count": 25,
      "outputs": []
    },
    {
      "cell_type": "code",
      "metadata": {
        "colab": {
          "base_uri": "https://localhost:8080/",
          "height": 183
        },
        "id": "MNfMQFRjvW2y",
        "outputId": "1aa6479c-9dc3-42ee-92a6-e23e9835ef8b"
      },
      "source": [
        "#TECO\n",
        "doc_scorer('samp_elec.pdf')"
      ],
      "execution_count": 26,
      "outputs": [
        {
          "output_type": "error",
          "ename": "TypeError",
          "evalue": "ignored",
          "traceback": [
            "\u001b[0;31m---------------------------------------------------------------------------\u001b[0m",
            "\u001b[0;31mTypeError\u001b[0m                                 Traceback (most recent call last)",
            "\u001b[0;32m<ipython-input-26-9bba5a0be1b6>\u001b[0m in \u001b[0;36m<module>\u001b[0;34m()\u001b[0m\n\u001b[1;32m      1\u001b[0m \u001b[0;31m#TECO\u001b[0m\u001b[0;34m\u001b[0m\u001b[0;34m\u001b[0m\u001b[0;34m\u001b[0m\u001b[0m\n\u001b[0;32m----> 2\u001b[0;31m \u001b[0mdoc_scorer\u001b[0m\u001b[0;34m(\u001b[0m\u001b[0;34m'samp_elec.pdf'\u001b[0m\u001b[0;34m)\u001b[0m\u001b[0;34m\u001b[0m\u001b[0;34m\u001b[0m\u001b[0m\n\u001b[0m",
            "\u001b[0;31mTypeError\u001b[0m: doc_scorer() missing 1 required positional argument: 'score_words'"
          ]
        }
      ]
    },
    {
      "cell_type": "code",
      "metadata": {
        "id": "UvPEr8a4vwam"
      },
      "source": [
        "#Duke Florida\n",
        "doc_scorer('duke_florida.pdf')"
      ],
      "execution_count": null,
      "outputs": []
    },
    {
      "cell_type": "code",
      "metadata": {
        "id": "rgrZs-B8v7TR"
      },
      "source": [
        "#Duke Carolinas\n",
        "doc_scorer('duke_carolinas.pdf')"
      ],
      "execution_count": null,
      "outputs": []
    },
    {
      "cell_type": "code",
      "metadata": {
        "colab": {
          "base_uri": "https://localhost:8080/"
        },
        "id": "a6WEitW0vfld",
        "outputId": "223091dc-0719-4522-ebd1-c24878caaeb7"
      },
      "source": [
        "!pip install flask-ngrok"
      ],
      "execution_count": 28,
      "outputs": [
        {
          "output_type": "stream",
          "text": [
            "Collecting flask-ngrok\n",
            "  Downloading https://files.pythonhosted.org/packages/af/6c/f54cb686ad1129e27d125d182f90f52b32f284e6c8df58c1bae54fa1adbc/flask_ngrok-0.0.25-py3-none-any.whl\n",
            "Requirement already satisfied: requests in /usr/local/lib/python3.7/dist-packages (from flask-ngrok) (2.23.0)\n",
            "Requirement already satisfied: Flask>=0.8 in /usr/local/lib/python3.7/dist-packages (from flask-ngrok) (1.1.4)\n",
            "Requirement already satisfied: urllib3!=1.25.0,!=1.25.1,<1.26,>=1.21.1 in /usr/local/lib/python3.7/dist-packages (from requests->flask-ngrok) (1.24.3)\n",
            "Requirement already satisfied: certifi>=2017.4.17 in /usr/local/lib/python3.7/dist-packages (from requests->flask-ngrok) (2021.5.30)\n",
            "Requirement already satisfied: chardet<4,>=3.0.2 in /usr/local/lib/python3.7/dist-packages (from requests->flask-ngrok) (3.0.4)\n",
            "Requirement already satisfied: idna<3,>=2.5 in /usr/local/lib/python3.7/dist-packages (from requests->flask-ngrok) (2.10)\n",
            "Requirement already satisfied: click<8.0,>=5.1 in /usr/local/lib/python3.7/dist-packages (from Flask>=0.8->flask-ngrok) (7.1.2)\n",
            "Requirement already satisfied: itsdangerous<2.0,>=0.24 in /usr/local/lib/python3.7/dist-packages (from Flask>=0.8->flask-ngrok) (1.1.0)\n",
            "Requirement already satisfied: Jinja2<3.0,>=2.10.1 in /usr/local/lib/python3.7/dist-packages (from Flask>=0.8->flask-ngrok) (2.11.3)\n",
            "Requirement already satisfied: Werkzeug<2.0,>=0.15 in /usr/local/lib/python3.7/dist-packages (from Flask>=0.8->flask-ngrok) (1.0.1)\n",
            "Requirement already satisfied: MarkupSafe>=0.23 in /usr/local/lib/python3.7/dist-packages (from Jinja2<3.0,>=2.10.1->Flask>=0.8->flask-ngrok) (2.0.1)\n",
            "Installing collected packages: flask-ngrok\n",
            "Successfully installed flask-ngrok-0.0.25\n"
          ],
          "name": "stdout"
        }
      ]
    },
    {
      "cell_type": "code",
      "metadata": {
        "id": "pPvwBE0r1_Ot",
        "colab": {
          "base_uri": "https://localhost:8080/"
        },
        "outputId": "d2ef2c20-00ee-4070-ad5a-ebb3fe966d03"
      },
      "source": [
        "!export FLASK_ENV=development\n",
        "from flask import Flask\n",
        "from flask import *\n",
        "from flask_ngrok import run_with_ngrok\n",
        "from flask import render_template\n",
        "app = Flask(__name__)\n",
        "run_with_ngrok(app)   \n",
        "  \n",
        "@app.route(\"/\")\n",
        "# def upload():\n",
        "#   return render_template(\"file_upload.html\")\n",
        "def home():\n",
        "    return render_template(\"file_upload_final.html\")\n",
        "\n",
        "@app.route(\"/success_sum\", methods=[\"POST\", \"GET\"])\n",
        "def suc_sum():\n",
        "  global file\n",
        "  f=request.files['file']\n",
        "  suc_sum.file_name=f.filename\n",
        "  f.save(suc_sum.file_name)\n",
        "  suc_sum.file_out = summarize(suc_sum.file_name, 0.1)\n",
        "  \n",
        "  #name = suc_sum.file_out.split(\".\")[0] + \"_summary.txt\"\n",
        "  return send_file(\"pdf_summary.txt\", as_attachment = True)\n",
        "\n",
        "@app.route(\"/success_score\", methods=[\"POST\", \"GET\"])\n",
        "def suc_score():\n",
        "  global file\n",
        "  f=request.files['file']\n",
        "  suc_score.file_name=f.filename\n",
        "  f.save(suc_score.file_name)\n",
        "\n",
        "  words = str(request.form[\"keywords\"])\n",
        "  words_list = words.split(\",\")\n",
        "  suc_score.score = doc_scorer(suc_score.file_name, words_list)\n",
        "  return render_template('file_upload_final.html', score = str(suc_score.score))\n",
        "  #return send_file(\"pdf_summary.txt\", as_attachment = True)\n",
        "\n",
        "@app.route(\"/success_name\", methods=[\"POST\", \"GET\"])\n",
        "def suc_name():\n",
        "  global file\n",
        "  f=request.files['file']\n",
        "  suc_name.file_name=f.filename\n",
        "  f.save(suc_name.file_name)\n",
        "\n",
        "  suc_name.name = get_company_name(suc_name.file_name)\n",
        "  return render_template('file_upload_final.html', name = str(suc_name.name))\n",
        "\n",
        "@app.route(\"/success_date\", methods=[\"POST\", \"GET\"])\n",
        "def suc_date():\n",
        "  global file\n",
        "  f=request.files['file']\n",
        "  suc_date.file_name=f.filename\n",
        "  f.save(suc_date.file_name)\n",
        "\n",
        "  suc_date.date = get_date(suc_date.file_name)\n",
        "  return render_template('file_upload_final.html', date = str(suc_date.date))\n",
        "  #return send_file(\"pdf_summary.txt\", as_attachment = True)\n",
        "\n",
        "# def contact():\n",
        "#     if request.method == 'POST':\n",
        "#         if request.form['submit'] == 'Run Summary':\n",
        "#             pass # do something\n",
        "#         elif request.form['submit'] == 'Run Score':\n",
        "#             pass # do something else\n",
        "#         elif request.form['submit'] == 'Run Name':\n",
        "#             pass # do something else\n",
        "#         else:\n",
        "\n",
        "\n",
        "if __name__ == \"__main__\":\n",
        "  app.run()\n",
        "    \n",
        "#app.run()"
      ],
      "execution_count": 29,
      "outputs": [
        {
          "output_type": "stream",
          "text": [
            " * Serving Flask app \"__main__\" (lazy loading)\n",
            " * Environment: production\n",
            "\u001b[31m   WARNING: This is a development server. Do not use it in a production deployment.\u001b[0m\n",
            "\u001b[2m   Use a production WSGI server instead.\u001b[0m\n",
            " * Debug mode: off\n"
          ],
          "name": "stdout"
        },
        {
          "output_type": "stream",
          "text": [
            " * Running on http://127.0.0.1:5000/ (Press CTRL+C to quit)\n"
          ],
          "name": "stderr"
        },
        {
          "output_type": "stream",
          "text": [
            " * Running on http://efabc5ccf95a.ngrok.io\n",
            " * Traffic stats available on http://127.0.0.1:4040\n"
          ],
          "name": "stdout"
        },
        {
          "output_type": "stream",
          "text": [
            "127.0.0.1 - - [12/Jul/2021 15:34:29] \"\u001b[37mGET / HTTP/1.1\u001b[0m\" 200 -\n",
            "127.0.0.1 - - [12/Jul/2021 15:34:29] \"\u001b[33mGET /favicon.ico HTTP/1.1\u001b[0m\" 404 -\n"
          ],
          "name": "stderr"
        }
      ]
    },
    {
      "cell_type": "code",
      "metadata": {
        "id": "haKLTNoavnJd"
      },
      "source": [
        "# LABEL = \"ANIMAL\"\n",
        "# TRAIN_DATA = [\n",
        "#     (\n",
        "#         \"September 20, 2020\", {\"entities\": [(0, 9, LABEL)]},\n",
        "#     ),\n",
        "#     (\n",
        "#         \"October 21, 2021\", {\"entities\": [(0, 7, LABEL)]},\n",
        "#     ),\n",
        "#     (\n",
        "#         \"November 9, 2016 \", {\"entities\": [(0, 8, LABEL)]},\n",
        "#     ),\n",
        "#     (\n",
        "#         \"December 8, 2015\", {\"entities\": [(0, 8, LABEL)]},\n",
        "#     ),\n",
        "#     (\n",
        "#         \"January 1, 2020\", {\"entities\": [(0, 7, LABEL)]},\n",
        "#     ),\n",
        "#     (\n",
        "#         \"February 5, 2018\", {\"entities\": [(0, 8, LABEL)]},\n",
        "#     ),\n",
        "#     (\n",
        "#         \"March 8, 2020\", {\"entities\": [(0, 5, LABEL)]},\n",
        "#     ),\n",
        "#     (\n",
        "#         \"April 11, 2022\", {\"entities\": [(0, 6, LABEL)]},\n",
        "#     ),\n",
        "#     (\n",
        "#         \"May 15, 2017\", {\"entities\": [(0, 4, LABEL)]},\n",
        "#     ),\n",
        "#     (\n",
        "#         \"June 13, 2016\", {\"entities\": [(0, 5, LABEL)]},\n",
        "#     ),\n",
        "#     (\n",
        "#         \"July 17, 2015\", {\"entities\": [(0, 5, LABEL)]},\n",
        "#     ),\n",
        "#     (\n",
        "#         \"August 21, 2020\", {\"entities\": [(0, 6, LABEL)]},\n",
        "#     ),\n",
        "#     (\n",
        "#         \"August 15, 2019\", {\"entities\": [(0, 6, LABEL)]},\n",
        "#     ),\n",
        "#         (\n",
        "#         \"October 14, 2018\", {\"entities\": [(0, 7, LABEL)]},\n",
        "#     ),\n",
        "#         (\n",
        "#         \"November 21, 2020\", {\"entities\": [(0, 8, LABEL)]},\n",
        "#     ),\n",
        "#         (\n",
        "#         \"January 7, 2018\", {\"entities\": [(0, 7, LABEL)]},\n",
        "#     )\n",
        "# ]\n",
        "\n",
        "\n",
        "# nlp_d = spacy.blank(\"en\")  # create blank Language class\n",
        "# ner = nlp_d.create_pipe(\"ner\")\n",
        "# nlp_d.add_pipe(ner)\n",
        "\n",
        "# ner.add_label(LABEL)  # add new entity label to entity recognizer\n",
        "\n",
        "# optimizer = nlp_d.begin_training()\n",
        "\n",
        "# move_names = list(ner.move_names)\n",
        "# # get names of other pipes to disable them during training\n",
        "# other_pipes = [pipe for pipe in nlp_d.pipe_names if pipe != \"ner\"]\n",
        "\n",
        "# with nlp_d.disable_pipes(*other_pipes):  # only train NER\n",
        "#     sizes = compounding(1.0, 4.0, 1.001)\n",
        "#     # batch up the examples using spaCy's minibatch\n",
        "#     for itn in range(n_iter):\n",
        "#         random.shuffle(TRAIN_DATA)\n",
        "#         batches = minibatch(TRAIN_DATA, size=sizes)\n",
        "#         losses = {}\n",
        "#         for batch in batches:\n",
        "#             texts, annotations = zip(*batch)\n",
        "#             nlp_d.update(texts, annotations, sgd=optimizer, drop=0.35, losses=losses)\n",
        "#         print(\"Losses\", losses)"
      ],
      "execution_count": null,
      "outputs": []
    },
    {
      "cell_type": "code",
      "metadata": {
        "id": "rgz6a0O9Ddxz"
      },
      "source": [
        "# !pip install streamlit\n",
        "# #streamlit run app.py\n",
        "# import streamlit as st\n",
        "# import cv2\n",
        "# import matplotlib.pyplot as plt\n",
        "# import numpy as np\n",
        "# import maze\n",
        "\n",
        "# st.title('Maze Solver')\n",
        "# uploaded_file = st.file_uploader(\"Choose an image\", [\"jpg\",\"jpeg\",\"png\"]) #image uploader\n",
        "# st.write('Or')\n",
        "# use_default_image = st.checkbox('Use default maze')"
      ],
      "execution_count": null,
      "outputs": []
    }
  ]
}